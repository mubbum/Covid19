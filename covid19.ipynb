{
 "cells": [
  {
   "cell_type": "markdown",
   "id": "f2b6e6eb",
   "metadata": {
    "_cell_guid": "b1076dfc-b9ad-4769-8c92-a6c4dae69d19",
    "_uuid": "8f2839f25d086af736a60e9eeb907d3b93b6e0e5",
    "execution": {
     "iopub.execute_input": "2022-01-04T22:26:59.624727Z",
     "iopub.status.busy": "2022-01-04T22:26:59.624332Z",
     "iopub.status.idle": "2022-01-04T22:26:59.628599Z",
     "shell.execute_reply": "2022-01-04T22:26:59.627832Z",
     "shell.execute_reply.started": "2022-01-04T22:26:59.62467Z"
    },
    "papermill": {
     "duration": 0.058212,
     "end_time": "2022-01-05T20:47:20.565806",
     "exception": false,
     "start_time": "2022-01-05T20:47:20.507594",
     "status": "completed"
    },
    "tags": []
   },
   "source": [
    "# Install Required Library"
   ]
  },
  {
   "cell_type": "code",
   "execution_count": 1,
   "id": "28d84b02",
   "metadata": {
    "execution": {
     "iopub.execute_input": "2022-01-05T20:47:20.683882Z",
     "iopub.status.busy": "2022-01-05T20:47:20.682031Z",
     "iopub.status.idle": "2022-01-05T20:48:26.328015Z",
     "shell.execute_reply": "2022-01-05T20:48:26.327196Z",
     "shell.execute_reply.started": "2022-01-05T11:45:04.252464Z"
    },
    "papermill": {
     "duration": 65.707163,
     "end_time": "2022-01-05T20:48:26.328188",
     "exception": false,
     "start_time": "2022-01-05T20:47:20.621025",
     "status": "completed"
    },
    "tags": []
   },
   "outputs": [
    {
     "name": "stdout",
     "output_type": "stream",
     "text": [
      "Collecting langdetect\r\n",
      "  Downloading langdetect-1.0.9.tar.gz (981 kB)\r\n",
      "     |████████████████████████████████| 981 kB 889 kB/s            \r\n",
      "\u001b[?25h  Preparing metadata (setup.py) ... \u001b[?25l-\b \bdone\r\n",
      "\u001b[?25hRequirement already satisfied: six in /opt/conda/lib/python3.7/site-packages (from langdetect) (1.16.0)\r\n",
      "Building wheels for collected packages: langdetect\r\n",
      "  Building wheel for langdetect (setup.py) ... \u001b[?25l-\b \b\\\b \b|\b \b/\b \b-\b \bdone\r\n",
      "\u001b[?25h  Created wheel for langdetect: filename=langdetect-1.0.9-py3-none-any.whl size=993242 sha256=12dab9addd0cf42bcdd04c40a20a318e6df9af53243253a918f221e7a32d7269\r\n",
      "  Stored in directory: /root/.cache/pip/wheels/c5/96/8a/f90c59ed25d75e50a8c10a1b1c2d4c402e4dacfa87f3aff36a\r\n",
      "Successfully built langdetect\r\n",
      "Installing collected packages: langdetect\r\n",
      "Successfully installed langdetect-1.0.9\r\n",
      "\u001b[33mWARNING: Running pip as the 'root' user can result in broken permissions and conflicting behaviour with the system package manager. It is recommended to use a virtual environment instead: https://pip.pypa.io/warnings/venv\u001b[0m\r\n",
      "Collecting pyspark\r\n",
      "  Downloading pyspark-3.2.0.tar.gz (281.3 MB)\r\n",
      "     |████████████████████████████████| 281.3 MB 34 kB/s              \r\n",
      "\u001b[?25h  Preparing metadata (setup.py) ... \u001b[?25l-\b \bdone\r\n",
      "\u001b[?25hCollecting py4j==0.10.9.2\r\n",
      "  Downloading py4j-0.10.9.2-py2.py3-none-any.whl (198 kB)\r\n",
      "     |████████████████████████████████| 198 kB 24.4 MB/s            \r\n",
      "\u001b[?25hBuilding wheels for collected packages: pyspark\r\n",
      "  Building wheel for pyspark (setup.py) ... \u001b[?25l-\b \b\\\b \b|\b \b/\b \b-\b \b\\\b \b|\b \b/\b \b-\b \b\\\b \b|\b \b/\b \b-\b \b\\\b \b|\b \b/\b \b-\b \b\\\b \b|\b \b/\b \b-\b \b\\\b \b|\b \b/\b \b-\b \b\\\b \b|\b \b/\b \b-\b \b\\\b \b|\b \b/\b \b-\b \b\\\b \b|\b \b/\b \b-\b \b\\\b \b|\b \b/\b \b-\b \b\\\b \b|\b \b/\b \b-\b \b\\\b \b|\b \b/\b \b-\b \b\\\b \b|\b \b/\b \b-\b \b\\\b \b|\b \b/\b \b-\b \b\\\b \bdone\r\n",
      "\u001b[?25h  Created wheel for pyspark: filename=pyspark-3.2.0-py2.py3-none-any.whl size=281805912 sha256=cef833fde2a96db65320d74b1398cc2da55687b1b4225f13143792d140e3660f\r\n",
      "  Stored in directory: /root/.cache/pip/wheels/0b/de/d2/9be5d59d7331c6c2a7c1b6d1a4f463ce107332b1ecd4e80718\r\n",
      "Successfully built pyspark\r\n",
      "Installing collected packages: py4j, pyspark\r\n",
      "  Attempting uninstall: py4j\r\n",
      "    Found existing installation: py4j 0.10.9.3\r\n",
      "    Uninstalling py4j-0.10.9.3:\r\n",
      "      Successfully uninstalled py4j-0.10.9.3\r\n",
      "Successfully installed py4j-0.10.9.2 pyspark-3.2.0\r\n",
      "\u001b[33mWARNING: Running pip as the 'root' user can result in broken permissions and conflicting behaviour with the system package manager. It is recommended to use a virtual environment instead: https://pip.pypa.io/warnings/venv\u001b[0m\r\n",
      "Requirement already satisfied: tqdm in /opt/conda/lib/python3.7/site-packages (4.62.3)\r\n",
      "\u001b[33mWARNING: Running pip as the 'root' user can result in broken permissions and conflicting behaviour with the system package manager. It is recommended to use a virtual environment instead: https://pip.pypa.io/warnings/venv\u001b[0m\r\n"
     ]
    }
   ],
   "source": [
    "!pip install langdetect \n",
    "!pip install pyspark\n",
    "!pip install tqdm"
   ]
  },
  {
   "cell_type": "markdown",
   "id": "7431dc53",
   "metadata": {
    "papermill": {
     "duration": 0.186053,
     "end_time": "2022-01-05T20:48:26.702531",
     "exception": false,
     "start_time": "2022-01-05T20:48:26.516478",
     "status": "completed"
    },
    "tags": []
   },
   "source": [
    "# Import Required Library"
   ]
  },
  {
   "cell_type": "code",
   "execution_count": 2,
   "id": "b2eb63d8",
   "metadata": {
    "execution": {
     "iopub.execute_input": "2022-01-05T20:48:27.082856Z",
     "iopub.status.busy": "2022-01-05T20:48:27.082145Z",
     "iopub.status.idle": "2022-01-05T20:48:28.132229Z",
     "shell.execute_reply": "2022-01-05T20:48:28.131581Z",
     "shell.execute_reply.started": "2022-01-05T11:45:04.301446Z"
    },
    "papermill": {
     "duration": 1.243156,
     "end_time": "2022-01-05T20:48:28.132391",
     "exception": false,
     "start_time": "2022-01-05T20:48:26.889235",
     "status": "completed"
    },
    "tags": []
   },
   "outputs": [],
   "source": [
    "import numpy as np \n",
    "import pandas as pd \n",
    "from pandas import DataFrame\n",
    "import os, json\n",
    "import glob\n",
    "import csv\n",
    "from sklearn.feature_extraction import text\n",
    "import string\n",
    "from tqdm import tqdm\n",
    "from langdetect import detect\n",
    "from langdetect import DetectorFactory\n",
    "import sys\n",
    "import string\n",
    "string.punctuation\n",
    "from pprint import pprint"
   ]
  },
  {
   "cell_type": "markdown",
   "id": "5b3bf500",
   "metadata": {
    "papermill": {
     "duration": 0.18371,
     "end_time": "2022-01-05T20:48:28.502449",
     "exception": false,
     "start_time": "2022-01-05T20:48:28.318739",
     "status": "completed"
    },
    "tags": []
   },
   "source": [
    "# Read Metadata File"
   ]
  },
  {
   "cell_type": "code",
   "execution_count": 3,
   "id": "89b1fbea",
   "metadata": {
    "_kg_hide-output": true,
    "execution": {
     "iopub.execute_input": "2022-01-05T20:48:28.876343Z",
     "iopub.status.busy": "2022-01-05T20:48:28.874198Z",
     "iopub.status.idle": "2022-01-05T20:49:00.488233Z",
     "shell.execute_reply": "2022-01-05T20:49:00.488742Z",
     "shell.execute_reply.started": "2022-01-05T11:45:04.309408Z"
    },
    "papermill": {
     "duration": 31.802586,
     "end_time": "2022-01-05T20:49:00.488969",
     "exception": false,
     "start_time": "2022-01-05T20:48:28.686383",
     "status": "completed"
    },
    "tags": []
   },
   "outputs": [
    {
     "name": "stderr",
     "output_type": "stream",
     "text": [
      "/opt/conda/lib/python3.7/site-packages/IPython/core/interactiveshell.py:3444: DtypeWarning: Columns (1,4,5,6,13,14,15,16) have mixed types.Specify dtype option on import or set low_memory=False.\n",
      "  exec(code_obj, self.user_global_ns, self.user_ns)\n"
     ]
    }
   ],
   "source": [
    "metadataDF = pd.read_csv('../input/CORD-19-research-challenge/metadata.csv')"
   ]
  },
  {
   "cell_type": "markdown",
   "id": "8988a5f1",
   "metadata": {
    "papermill": {
     "duration": 0.187252,
     "end_time": "2022-01-05T20:49:00.862866",
     "exception": false,
     "start_time": "2022-01-05T20:49:00.675614",
     "status": "completed"
    },
    "tags": []
   },
   "source": [
    "# Exploratory the Data "
   ]
  },
  {
   "cell_type": "code",
   "execution_count": 4,
   "id": "083cdce4",
   "metadata": {
    "execution": {
     "iopub.execute_input": "2022-01-05T20:49:01.245007Z",
     "iopub.status.busy": "2022-01-05T20:49:01.244264Z",
     "iopub.status.idle": "2022-01-05T20:49:01.268640Z",
     "shell.execute_reply": "2022-01-05T20:49:01.268100Z",
     "shell.execute_reply.started": "2022-01-05T11:45:27.342455Z"
    },
    "papermill": {
     "duration": 0.219295,
     "end_time": "2022-01-05T20:49:01.268809",
     "exception": false,
     "start_time": "2022-01-05T20:49:01.049514",
     "status": "completed"
    },
    "tags": []
   },
   "outputs": [
    {
     "data": {
      "text/html": [
       "<div>\n",
       "<style scoped>\n",
       "    .dataframe tbody tr th:only-of-type {\n",
       "        vertical-align: middle;\n",
       "    }\n",
       "\n",
       "    .dataframe tbody tr th {\n",
       "        vertical-align: top;\n",
       "    }\n",
       "\n",
       "    .dataframe thead th {\n",
       "        text-align: right;\n",
       "    }\n",
       "</style>\n",
       "<table border=\"1\" class=\"dataframe\">\n",
       "  <thead>\n",
       "    <tr style=\"text-align: right;\">\n",
       "      <th></th>\n",
       "      <th>cord_uid</th>\n",
       "      <th>sha</th>\n",
       "      <th>source_x</th>\n",
       "      <th>title</th>\n",
       "      <th>doi</th>\n",
       "      <th>pmcid</th>\n",
       "      <th>pubmed_id</th>\n",
       "      <th>license</th>\n",
       "      <th>abstract</th>\n",
       "      <th>publish_time</th>\n",
       "      <th>authors</th>\n",
       "      <th>journal</th>\n",
       "      <th>mag_id</th>\n",
       "      <th>who_covidence_id</th>\n",
       "      <th>arxiv_id</th>\n",
       "      <th>pdf_json_files</th>\n",
       "      <th>pmc_json_files</th>\n",
       "      <th>url</th>\n",
       "      <th>s2_id</th>\n",
       "    </tr>\n",
       "  </thead>\n",
       "  <tbody>\n",
       "    <tr>\n",
       "      <th>0</th>\n",
       "      <td>ug7v899j</td>\n",
       "      <td>d1aafb70c066a2068b02786f8929fd9c900897fb</td>\n",
       "      <td>PMC</td>\n",
       "      <td>Clinical features of culture-proven Mycoplasma...</td>\n",
       "      <td>10.1186/1471-2334-1-6</td>\n",
       "      <td>PMC35282</td>\n",
       "      <td>11472636</td>\n",
       "      <td>no-cc</td>\n",
       "      <td>OBJECTIVE: This retrospective chart review des...</td>\n",
       "      <td>2001-07-04</td>\n",
       "      <td>Madani, Tariq A; Al-Ghamdi, Aisha A</td>\n",
       "      <td>BMC Infect Dis</td>\n",
       "      <td>NaN</td>\n",
       "      <td>NaN</td>\n",
       "      <td>NaN</td>\n",
       "      <td>document_parses/pdf_json/d1aafb70c066a2068b027...</td>\n",
       "      <td>document_parses/pmc_json/PMC35282.xml.json</td>\n",
       "      <td>https://www.ncbi.nlm.nih.gov/pmc/articles/PMC3...</td>\n",
       "      <td>NaN</td>\n",
       "    </tr>\n",
       "    <tr>\n",
       "      <th>1</th>\n",
       "      <td>02tnwd4m</td>\n",
       "      <td>6b0567729c2143a66d737eb0a2f63f2dce2e5a7d</td>\n",
       "      <td>PMC</td>\n",
       "      <td>Nitric oxide: a pro-inflammatory mediator in l...</td>\n",
       "      <td>10.1186/rr14</td>\n",
       "      <td>PMC59543</td>\n",
       "      <td>11667967</td>\n",
       "      <td>no-cc</td>\n",
       "      <td>Inflammatory diseases of the respiratory tract...</td>\n",
       "      <td>2000-08-15</td>\n",
       "      <td>Vliet, Albert van der; Eiserich, Jason P; Cros...</td>\n",
       "      <td>Respir Res</td>\n",
       "      <td>NaN</td>\n",
       "      <td>NaN</td>\n",
       "      <td>NaN</td>\n",
       "      <td>document_parses/pdf_json/6b0567729c2143a66d737...</td>\n",
       "      <td>document_parses/pmc_json/PMC59543.xml.json</td>\n",
       "      <td>https://www.ncbi.nlm.nih.gov/pmc/articles/PMC5...</td>\n",
       "      <td>NaN</td>\n",
       "    </tr>\n",
       "  </tbody>\n",
       "</table>\n",
       "</div>"
      ],
      "text/plain": [
       "   cord_uid                                       sha source_x  \\\n",
       "0  ug7v899j  d1aafb70c066a2068b02786f8929fd9c900897fb      PMC   \n",
       "1  02tnwd4m  6b0567729c2143a66d737eb0a2f63f2dce2e5a7d      PMC   \n",
       "\n",
       "                                               title                    doi  \\\n",
       "0  Clinical features of culture-proven Mycoplasma...  10.1186/1471-2334-1-6   \n",
       "1  Nitric oxide: a pro-inflammatory mediator in l...           10.1186/rr14   \n",
       "\n",
       "      pmcid pubmed_id license  \\\n",
       "0  PMC35282  11472636   no-cc   \n",
       "1  PMC59543  11667967   no-cc   \n",
       "\n",
       "                                            abstract publish_time  \\\n",
       "0  OBJECTIVE: This retrospective chart review des...   2001-07-04   \n",
       "1  Inflammatory diseases of the respiratory tract...   2000-08-15   \n",
       "\n",
       "                                             authors         journal  mag_id  \\\n",
       "0                Madani, Tariq A; Al-Ghamdi, Aisha A  BMC Infect Dis     NaN   \n",
       "1  Vliet, Albert van der; Eiserich, Jason P; Cros...      Respir Res     NaN   \n",
       "\n",
       "  who_covidence_id arxiv_id  \\\n",
       "0              NaN      NaN   \n",
       "1              NaN      NaN   \n",
       "\n",
       "                                      pdf_json_files  \\\n",
       "0  document_parses/pdf_json/d1aafb70c066a2068b027...   \n",
       "1  document_parses/pdf_json/6b0567729c2143a66d737...   \n",
       "\n",
       "                               pmc_json_files  \\\n",
       "0  document_parses/pmc_json/PMC35282.xml.json   \n",
       "1  document_parses/pmc_json/PMC59543.xml.json   \n",
       "\n",
       "                                                 url  s2_id  \n",
       "0  https://www.ncbi.nlm.nih.gov/pmc/articles/PMC3...    NaN  \n",
       "1  https://www.ncbi.nlm.nih.gov/pmc/articles/PMC5...    NaN  "
      ]
     },
     "execution_count": 4,
     "metadata": {},
     "output_type": "execute_result"
    }
   ],
   "source": [
    "metadataDF.head(2)"
   ]
  },
  {
   "cell_type": "code",
   "execution_count": 5,
   "id": "3ef74825",
   "metadata": {
    "execution": {
     "iopub.execute_input": "2022-01-05T20:49:01.650568Z",
     "iopub.status.busy": "2022-01-05T20:49:01.649891Z",
     "iopub.status.idle": "2022-01-05T20:49:03.035149Z",
     "shell.execute_reply": "2022-01-05T20:49:03.035629Z",
     "shell.execute_reply.started": "2022-01-05T11:45:27.369145Z"
    },
    "papermill": {
     "duration": 1.579627,
     "end_time": "2022-01-05T20:49:03.035845",
     "exception": false,
     "start_time": "2022-01-05T20:49:01.456218",
     "status": "completed"
    },
    "tags": []
   },
   "outputs": [
    {
     "name": "stdout",
     "output_type": "stream",
     "text": [
      "<class 'pandas.core.frame.DataFrame'>\n",
      "RangeIndex: 866605 entries, 0 to 866604\n",
      "Data columns (total 19 columns):\n",
      " #   Column            Non-Null Count   Dtype  \n",
      "---  ------            --------------   -----  \n",
      " 0   cord_uid          866605 non-null  object \n",
      " 1   sha               293894 non-null  object \n",
      " 2   source_x          866605 non-null  object \n",
      " 3   title             866168 non-null  object \n",
      " 4   doi               489751 non-null  object \n",
      " 5   pmcid             305461 non-null  object \n",
      " 6   pubmed_id         390515 non-null  object \n",
      " 7   license           866605 non-null  object \n",
      " 8   abstract          653755 non-null  object \n",
      " 9   publish_time      866369 non-null  object \n",
      " 10  authors           846465 non-null  object \n",
      " 11  journal           809253 non-null  object \n",
      " 12  mag_id            0 non-null       float64\n",
      " 13  who_covidence_id  400429 non-null  object \n",
      " 14  arxiv_id          11489 non-null   object \n",
      " 15  pdf_json_files    293894 non-null  object \n",
      " 16  pmc_json_files    243652 non-null  object \n",
      " 17  url               516787 non-null  object \n",
      " 18  s2_id             800166 non-null  float64\n",
      "dtypes: float64(2), object(17)\n",
      "memory usage: 125.6+ MB\n"
     ]
    }
   ],
   "source": [
    "metadataDF.info()"
   ]
  },
  {
   "cell_type": "code",
   "execution_count": 6,
   "id": "8161c8e4",
   "metadata": {
    "execution": {
     "iopub.execute_input": "2022-01-05T20:49:03.417159Z",
     "iopub.status.busy": "2022-01-05T20:49:03.416512Z",
     "iopub.status.idle": "2022-01-05T20:49:03.435245Z",
     "shell.execute_reply": "2022-01-05T20:49:03.435721Z",
     "shell.execute_reply.started": "2022-01-05T11:45:28.8116Z"
    },
    "papermill": {
     "duration": 0.210831,
     "end_time": "2022-01-05T20:49:03.435914",
     "exception": false,
     "start_time": "2022-01-05T20:49:03.225083",
     "status": "completed"
    },
    "tags": []
   },
   "outputs": [
    {
     "data": {
      "text/html": [
       "<div>\n",
       "<style scoped>\n",
       "    .dataframe tbody tr th:only-of-type {\n",
       "        vertical-align: middle;\n",
       "    }\n",
       "\n",
       "    .dataframe tbody tr th {\n",
       "        vertical-align: top;\n",
       "    }\n",
       "\n",
       "    .dataframe thead th {\n",
       "        text-align: right;\n",
       "    }\n",
       "</style>\n",
       "<table border=\"1\" class=\"dataframe\">\n",
       "  <thead>\n",
       "    <tr style=\"text-align: right;\">\n",
       "      <th></th>\n",
       "      <th>cord_uid</th>\n",
       "      <th>sha</th>\n",
       "      <th>source_x</th>\n",
       "      <th>title</th>\n",
       "      <th>doi</th>\n",
       "      <th>pmcid</th>\n",
       "      <th>pubmed_id</th>\n",
       "      <th>license</th>\n",
       "      <th>abstract</th>\n",
       "      <th>publish_time</th>\n",
       "      <th>authors</th>\n",
       "      <th>journal</th>\n",
       "      <th>mag_id</th>\n",
       "      <th>who_covidence_id</th>\n",
       "      <th>arxiv_id</th>\n",
       "      <th>pdf_json_files</th>\n",
       "      <th>pmc_json_files</th>\n",
       "      <th>url</th>\n",
       "      <th>s2_id</th>\n",
       "    </tr>\n",
       "  </thead>\n",
       "  <tbody>\n",
       "    <tr>\n",
       "      <th>0</th>\n",
       "      <td>ug7v899j</td>\n",
       "      <td>d1aafb70c066a2068b02786f8929fd9c900897fb</td>\n",
       "      <td>PMC</td>\n",
       "      <td>Clinical features of culture-proven Mycoplasma...</td>\n",
       "      <td>10.1186/1471-2334-1-6</td>\n",
       "      <td>PMC35282</td>\n",
       "      <td>11472636</td>\n",
       "      <td>no-cc</td>\n",
       "      <td>OBJECTIVE: This retrospective chart review des...</td>\n",
       "      <td>2001-07-04</td>\n",
       "      <td>Madani, Tariq A; Al-Ghamdi, Aisha A</td>\n",
       "      <td>BMC Infect Dis</td>\n",
       "      <td>NaN</td>\n",
       "      <td>NaN</td>\n",
       "      <td>NaN</td>\n",
       "      <td>document_parses/pdf_json/d1aafb70c066a2068b027...</td>\n",
       "      <td>document_parses/pmc_json/PMC35282.xml.json</td>\n",
       "      <td>https://www.ncbi.nlm.nih.gov/pmc/articles/PMC3...</td>\n",
       "      <td>NaN</td>\n",
       "    </tr>\n",
       "    <tr>\n",
       "      <th>1</th>\n",
       "      <td>02tnwd4m</td>\n",
       "      <td>6b0567729c2143a66d737eb0a2f63f2dce2e5a7d</td>\n",
       "      <td>PMC</td>\n",
       "      <td>Nitric oxide: a pro-inflammatory mediator in l...</td>\n",
       "      <td>10.1186/rr14</td>\n",
       "      <td>PMC59543</td>\n",
       "      <td>11667967</td>\n",
       "      <td>no-cc</td>\n",
       "      <td>Inflammatory diseases of the respiratory tract...</td>\n",
       "      <td>2000-08-15</td>\n",
       "      <td>Vliet, Albert van der; Eiserich, Jason P; Cros...</td>\n",
       "      <td>Respir Res</td>\n",
       "      <td>NaN</td>\n",
       "      <td>NaN</td>\n",
       "      <td>NaN</td>\n",
       "      <td>document_parses/pdf_json/6b0567729c2143a66d737...</td>\n",
       "      <td>document_parses/pmc_json/PMC59543.xml.json</td>\n",
       "      <td>https://www.ncbi.nlm.nih.gov/pmc/articles/PMC5...</td>\n",
       "      <td>NaN</td>\n",
       "    </tr>\n",
       "    <tr>\n",
       "      <th>2</th>\n",
       "      <td>ejv2xln0</td>\n",
       "      <td>06ced00a5fc04215949aa72528f2eeaae1d58927</td>\n",
       "      <td>PMC</td>\n",
       "      <td>Surfactant protein-D and pulmonary host defense</td>\n",
       "      <td>10.1186/rr19</td>\n",
       "      <td>PMC59549</td>\n",
       "      <td>11667972</td>\n",
       "      <td>no-cc</td>\n",
       "      <td>Surfactant protein-D (SP-D) participates in th...</td>\n",
       "      <td>2000-08-25</td>\n",
       "      <td>Crouch, Erika C</td>\n",
       "      <td>Respir Res</td>\n",
       "      <td>NaN</td>\n",
       "      <td>NaN</td>\n",
       "      <td>NaN</td>\n",
       "      <td>document_parses/pdf_json/06ced00a5fc04215949aa...</td>\n",
       "      <td>document_parses/pmc_json/PMC59549.xml.json</td>\n",
       "      <td>https://www.ncbi.nlm.nih.gov/pmc/articles/PMC5...</td>\n",
       "      <td>NaN</td>\n",
       "    </tr>\n",
       "  </tbody>\n",
       "</table>\n",
       "</div>"
      ],
      "text/plain": [
       "   cord_uid                                       sha source_x  \\\n",
       "0  ug7v899j  d1aafb70c066a2068b02786f8929fd9c900897fb      PMC   \n",
       "1  02tnwd4m  6b0567729c2143a66d737eb0a2f63f2dce2e5a7d      PMC   \n",
       "2  ejv2xln0  06ced00a5fc04215949aa72528f2eeaae1d58927      PMC   \n",
       "\n",
       "                                               title                    doi  \\\n",
       "0  Clinical features of culture-proven Mycoplasma...  10.1186/1471-2334-1-6   \n",
       "1  Nitric oxide: a pro-inflammatory mediator in l...           10.1186/rr14   \n",
       "2    Surfactant protein-D and pulmonary host defense           10.1186/rr19   \n",
       "\n",
       "      pmcid pubmed_id license  \\\n",
       "0  PMC35282  11472636   no-cc   \n",
       "1  PMC59543  11667967   no-cc   \n",
       "2  PMC59549  11667972   no-cc   \n",
       "\n",
       "                                            abstract publish_time  \\\n",
       "0  OBJECTIVE: This retrospective chart review des...   2001-07-04   \n",
       "1  Inflammatory diseases of the respiratory tract...   2000-08-15   \n",
       "2  Surfactant protein-D (SP-D) participates in th...   2000-08-25   \n",
       "\n",
       "                                             authors         journal  mag_id  \\\n",
       "0                Madani, Tariq A; Al-Ghamdi, Aisha A  BMC Infect Dis     NaN   \n",
       "1  Vliet, Albert van der; Eiserich, Jason P; Cros...      Respir Res     NaN   \n",
       "2                                    Crouch, Erika C      Respir Res     NaN   \n",
       "\n",
       "  who_covidence_id arxiv_id  \\\n",
       "0              NaN      NaN   \n",
       "1              NaN      NaN   \n",
       "2              NaN      NaN   \n",
       "\n",
       "                                      pdf_json_files  \\\n",
       "0  document_parses/pdf_json/d1aafb70c066a2068b027...   \n",
       "1  document_parses/pdf_json/6b0567729c2143a66d737...   \n",
       "2  document_parses/pdf_json/06ced00a5fc04215949aa...   \n",
       "\n",
       "                               pmc_json_files  \\\n",
       "0  document_parses/pmc_json/PMC35282.xml.json   \n",
       "1  document_parses/pmc_json/PMC59543.xml.json   \n",
       "2  document_parses/pmc_json/PMC59549.xml.json   \n",
       "\n",
       "                                                 url  s2_id  \n",
       "0  https://www.ncbi.nlm.nih.gov/pmc/articles/PMC3...    NaN  \n",
       "1  https://www.ncbi.nlm.nih.gov/pmc/articles/PMC5...    NaN  \n",
       "2  https://www.ncbi.nlm.nih.gov/pmc/articles/PMC5...    NaN  "
      ]
     },
     "execution_count": 6,
     "metadata": {},
     "output_type": "execute_result"
    }
   ],
   "source": [
    "metadataDF.head(3)"
   ]
  },
  {
   "cell_type": "code",
   "execution_count": 7,
   "id": "ca6edede",
   "metadata": {
    "execution": {
     "iopub.execute_input": "2022-01-05T20:49:03.814714Z",
     "iopub.status.busy": "2022-01-05T20:49:03.814109Z",
     "iopub.status.idle": "2022-01-05T20:49:03.818141Z",
     "shell.execute_reply": "2022-01-05T20:49:03.818719Z",
     "shell.execute_reply.started": "2022-01-05T11:45:28.838952Z"
    },
    "papermill": {
     "duration": 0.196042,
     "end_time": "2022-01-05T20:49:03.818896",
     "exception": false,
     "start_time": "2022-01-05T20:49:03.622854",
     "status": "completed"
    },
    "tags": []
   },
   "outputs": [
    {
     "data": {
      "text/plain": [
       "866605"
      ]
     },
     "execution_count": 7,
     "metadata": {},
     "output_type": "execute_result"
    }
   ],
   "source": [
    "len(metadataDF)"
   ]
  },
  {
   "cell_type": "markdown",
   "id": "a0de01c3",
   "metadata": {
    "papermill": {
     "duration": 0.189237,
     "end_time": "2022-01-05T20:49:04.196472",
     "exception": false,
     "start_time": "2022-01-05T20:49:04.007235",
     "status": "completed"
    },
    "tags": []
   },
   "source": [
    "#### Drop Null values of the Column pdf_json_files \n",
    "#### Take 3% as a sample of the Data to Proceed withit "
   ]
  },
  {
   "cell_type": "code",
   "execution_count": 8,
   "id": "6da4de82",
   "metadata": {
    "execution": {
     "iopub.execute_input": "2022-01-05T20:49:04.578305Z",
     "iopub.status.busy": "2022-01-05T20:49:04.575195Z",
     "iopub.status.idle": "2022-01-05T20:49:04.791034Z",
     "shell.execute_reply": "2022-01-05T20:49:04.790160Z",
     "shell.execute_reply.started": "2022-01-05T11:45:28.847654Z"
    },
    "papermill": {
     "duration": 0.406919,
     "end_time": "2022-01-05T20:49:04.791219",
     "exception": false,
     "start_time": "2022-01-05T20:49:04.384300",
     "status": "completed"
    },
    "tags": []
   },
   "outputs": [
    {
     "name": "stdout",
     "output_type": "stream",
     "text": [
      "Sample Data Rows: 8816\n"
     ]
    }
   ],
   "source": [
    "#drop rows that have empty pdf_json cels\n",
    "metadataDF.dropna(subset=['pdf_json_files'], inplace=True)\n",
    "\n",
    "#create a new df with first 1000 rows\n",
    "covid_df = metadataDF.sample(int(len(metadataDF) *0.03))\n",
    "\n",
    "print('Sample Data Rows:', len(covid_df))"
   ]
  },
  {
   "cell_type": "code",
   "execution_count": 9,
   "id": "f67d79fd",
   "metadata": {
    "execution": {
     "iopub.execute_input": "2022-01-05T20:49:05.197361Z",
     "iopub.status.busy": "2022-01-05T20:49:05.196663Z",
     "iopub.status.idle": "2022-01-05T20:49:05.208408Z",
     "shell.execute_reply": "2022-01-05T20:49:05.209465Z",
     "shell.execute_reply.started": "2022-01-05T11:45:29.107785Z"
    },
    "papermill": {
     "duration": 0.232001,
     "end_time": "2022-01-05T20:49:05.209778",
     "exception": false,
     "start_time": "2022-01-05T20:49:04.977777",
     "status": "completed"
    },
    "tags": []
   },
   "outputs": [
    {
     "name": "stdout",
     "output_type": "stream",
     "text": [
      "<class 'pandas.core.frame.DataFrame'>\n",
      "Int64Index: 8816 entries, 3492 to 767627\n",
      "Data columns (total 19 columns):\n",
      " #   Column            Non-Null Count  Dtype  \n",
      "---  ------            --------------  -----  \n",
      " 0   cord_uid          8816 non-null   object \n",
      " 1   sha               8816 non-null   object \n",
      " 2   source_x          8816 non-null   object \n",
      " 3   title             8816 non-null   object \n",
      " 4   doi               8476 non-null   object \n",
      " 5   pmcid             7885 non-null   object \n",
      " 6   pubmed_id         6974 non-null   object \n",
      " 7   license           8816 non-null   object \n",
      " 8   abstract          7561 non-null   object \n",
      " 9   publish_time      8816 non-null   object \n",
      " 10  authors           8745 non-null   object \n",
      " 11  journal           7997 non-null   object \n",
      " 12  mag_id            0 non-null      float64\n",
      " 13  who_covidence_id  0 non-null      object \n",
      " 14  arxiv_id          353 non-null    object \n",
      " 15  pdf_json_files    8816 non-null   object \n",
      " 16  pmc_json_files    6891 non-null   object \n",
      " 17  url               8816 non-null   object \n",
      " 18  s2_id             7422 non-null   float64\n",
      "dtypes: float64(2), object(17)\n",
      "memory usage: 1.3+ MB\n"
     ]
    }
   ],
   "source": [
    "covid_df.info()"
   ]
  },
  {
   "cell_type": "markdown",
   "id": "ed6d3de2",
   "metadata": {
    "papermill": {
     "duration": 0.187794,
     "end_time": "2022-01-05T20:49:05.586804",
     "exception": false,
     "start_time": "2022-01-05T20:49:05.399010",
     "status": "completed"
    },
    "tags": []
   },
   "source": [
    "##### Clean Values of Column pdf_json_files to extract the path of the json file"
   ]
  },
  {
   "cell_type": "code",
   "execution_count": 10,
   "id": "bd505e30",
   "metadata": {
    "execution": {
     "iopub.execute_input": "2022-01-05T20:49:05.964230Z",
     "iopub.status.busy": "2022-01-05T20:49:05.963554Z",
     "iopub.status.idle": "2022-01-05T20:49:06.005857Z",
     "shell.execute_reply": "2022-01-05T20:49:06.006355Z",
     "shell.execute_reply.started": "2022-01-05T11:45:29.159617Z"
    },
    "papermill": {
     "duration": 0.233424,
     "end_time": "2022-01-05T20:49:06.006521",
     "exception": false,
     "start_time": "2022-01-05T20:49:05.773097",
     "status": "completed"
    },
    "tags": []
   },
   "outputs": [
    {
     "data": {
      "text/html": [
       "<div>\n",
       "<style scoped>\n",
       "    .dataframe tbody tr th:only-of-type {\n",
       "        vertical-align: middle;\n",
       "    }\n",
       "\n",
       "    .dataframe tbody tr th {\n",
       "        vertical-align: top;\n",
       "    }\n",
       "\n",
       "    .dataframe thead th {\n",
       "        text-align: right;\n",
       "    }\n",
       "</style>\n",
       "<table border=\"1\" class=\"dataframe\">\n",
       "  <thead>\n",
       "    <tr style=\"text-align: right;\">\n",
       "      <th></th>\n",
       "      <th>cord_uid</th>\n",
       "      <th>sha</th>\n",
       "      <th>source_x</th>\n",
       "      <th>title</th>\n",
       "      <th>doi</th>\n",
       "      <th>pmcid</th>\n",
       "      <th>pubmed_id</th>\n",
       "      <th>license</th>\n",
       "      <th>abstract</th>\n",
       "      <th>publish_time</th>\n",
       "      <th>authors</th>\n",
       "      <th>journal</th>\n",
       "      <th>mag_id</th>\n",
       "      <th>who_covidence_id</th>\n",
       "      <th>arxiv_id</th>\n",
       "      <th>pdf_json_files</th>\n",
       "      <th>pmc_json_files</th>\n",
       "      <th>url</th>\n",
       "      <th>s2_id</th>\n",
       "    </tr>\n",
       "  </thead>\n",
       "  <tbody>\n",
       "    <tr>\n",
       "      <th>3492</th>\n",
       "      <td>y9la83zx</td>\n",
       "      <td>90b225bb89b9c6cd53621102fb383cf4fa090891</td>\n",
       "      <td>PMC</td>\n",
       "      <td>Gene Knockdowns in Adult Animals: PPMOs and Vi...</td>\n",
       "      <td>10.3390/molecules14031304</td>\n",
       "      <td>PMC6253989</td>\n",
       "      <td>19325525</td>\n",
       "      <td>cc-by</td>\n",
       "      <td>Antisense molecules do not readily cross cell ...</td>\n",
       "      <td>2009-03-25</td>\n",
       "      <td>Moulton, Jon D.; Jiang, Shan</td>\n",
       "      <td>Molecules</td>\n",
       "      <td>NaN</td>\n",
       "      <td>NaN</td>\n",
       "      <td>NaN</td>\n",
       "      <td>document_parses/pdf_json/90b225bb89b9c6cd53621...</td>\n",
       "      <td>document_parses/pmc_json/PMC6253989.xml.json</td>\n",
       "      <td>https://www.ncbi.nlm.nih.gov/pmc/articles/PMC6...</td>\n",
       "      <td>NaN</td>\n",
       "    </tr>\n",
       "    <tr>\n",
       "      <th>865226</th>\n",
       "      <td>o6uak5b1</td>\n",
       "      <td>61c53a01cca751529f84193ba571fa471d1fc0ab</td>\n",
       "      <td>Medline; PMC</td>\n",
       "      <td>Modeling the Binding Mechanism of Remdesivir, ...</td>\n",
       "      <td>10.1021/acscentsci.0c01242</td>\n",
       "      <td>PMC7805600</td>\n",
       "      <td>33527086.0</td>\n",
       "      <td>no-cc</td>\n",
       "      <td>[Image: see text] Recent efforts to repurpose ...</td>\n",
       "      <td>2021-01-06</td>\n",
       "      <td>Byléhn, Fabian; Menéndez, Cintia A.; Perez-Lem...</td>\n",
       "      <td>ACS Cent Sci</td>\n",
       "      <td>NaN</td>\n",
       "      <td>NaN</td>\n",
       "      <td>NaN</td>\n",
       "      <td>document_parses/pdf_json/61c53a01cca751529f841...</td>\n",
       "      <td>document_parses/pmc_json/PMC7805600.xml.json</td>\n",
       "      <td>https://doi.org/10.1021/acscentsci.0c01242; ht...</td>\n",
       "      <td>231676250.0</td>\n",
       "    </tr>\n",
       "    <tr>\n",
       "      <th>50793</th>\n",
       "      <td>zpeupbef</td>\n",
       "      <td>018a5ebef45265eef3aa8e0125a5bdb62768f591</td>\n",
       "      <td>PMC</td>\n",
       "      <td>Pasture Monitoring Applying Normalized Differe...</td>\n",
       "      <td>10.1007/978-3-030-58817-5_41</td>\n",
       "      <td>PMC7975004</td>\n",
       "      <td>NaN</td>\n",
       "      <td>no-cc</td>\n",
       "      <td>The soils have had an increasing pressure due ...</td>\n",
       "      <td>2020-08-24</td>\n",
       "      <td>Fernando, Garrido; Víctor, Caranqui</td>\n",
       "      <td>Computational Science and Its Applications - I...</td>\n",
       "      <td>NaN</td>\n",
       "      <td>NaN</td>\n",
       "      <td>NaN</td>\n",
       "      <td>document_parses/pdf_json/018a5ebef45265eef3aa8...</td>\n",
       "      <td>document_parses/pmc_json/PMC7975004.xml.json</td>\n",
       "      <td>https://www.ncbi.nlm.nih.gov/pmc/articles/PMC7...</td>\n",
       "      <td>NaN</td>\n",
       "    </tr>\n",
       "  </tbody>\n",
       "</table>\n",
       "</div>"
      ],
      "text/plain": [
       "        cord_uid                                       sha      source_x  \\\n",
       "3492    y9la83zx  90b225bb89b9c6cd53621102fb383cf4fa090891           PMC   \n",
       "865226  o6uak5b1  61c53a01cca751529f84193ba571fa471d1fc0ab  Medline; PMC   \n",
       "50793   zpeupbef  018a5ebef45265eef3aa8e0125a5bdb62768f591           PMC   \n",
       "\n",
       "                                                    title  \\\n",
       "3492    Gene Knockdowns in Adult Animals: PPMOs and Vi...   \n",
       "865226  Modeling the Binding Mechanism of Remdesivir, ...   \n",
       "50793   Pasture Monitoring Applying Normalized Differe...   \n",
       "\n",
       "                                 doi       pmcid   pubmed_id license  \\\n",
       "3492       10.3390/molecules14031304  PMC6253989    19325525   cc-by   \n",
       "865226    10.1021/acscentsci.0c01242  PMC7805600  33527086.0   no-cc   \n",
       "50793   10.1007/978-3-030-58817-5_41  PMC7975004         NaN   no-cc   \n",
       "\n",
       "                                                 abstract publish_time  \\\n",
       "3492    Antisense molecules do not readily cross cell ...   2009-03-25   \n",
       "865226  [Image: see text] Recent efforts to repurpose ...   2021-01-06   \n",
       "50793   The soils have had an increasing pressure due ...   2020-08-24   \n",
       "\n",
       "                                                  authors  \\\n",
       "3492                         Moulton, Jon D.; Jiang, Shan   \n",
       "865226  Byléhn, Fabian; Menéndez, Cintia A.; Perez-Lem...   \n",
       "50793                 Fernando, Garrido; Víctor, Caranqui   \n",
       "\n",
       "                                                  journal  mag_id  \\\n",
       "3492                                            Molecules     NaN   \n",
       "865226                                       ACS Cent Sci     NaN   \n",
       "50793   Computational Science and Its Applications - I...     NaN   \n",
       "\n",
       "       who_covidence_id arxiv_id  \\\n",
       "3492                NaN      NaN   \n",
       "865226              NaN      NaN   \n",
       "50793               NaN      NaN   \n",
       "\n",
       "                                           pdf_json_files  \\\n",
       "3492    document_parses/pdf_json/90b225bb89b9c6cd53621...   \n",
       "865226  document_parses/pdf_json/61c53a01cca751529f841...   \n",
       "50793   document_parses/pdf_json/018a5ebef45265eef3aa8...   \n",
       "\n",
       "                                      pmc_json_files  \\\n",
       "3492    document_parses/pmc_json/PMC6253989.xml.json   \n",
       "865226  document_parses/pmc_json/PMC7805600.xml.json   \n",
       "50793   document_parses/pmc_json/PMC7975004.xml.json   \n",
       "\n",
       "                                                      url        s2_id  \n",
       "3492    https://www.ncbi.nlm.nih.gov/pmc/articles/PMC6...          NaN  \n",
       "865226  https://doi.org/10.1021/acscentsci.0c01242; ht...  231676250.0  \n",
       "50793   https://www.ncbi.nlm.nih.gov/pmc/articles/PMC7...          NaN  "
      ]
     },
     "execution_count": 10,
     "metadata": {},
     "output_type": "execute_result"
    }
   ],
   "source": [
    "#covid_df['pdf_json_files'] = covid_df['pdf_json_files'].str.rstrip('.json ')\n",
    "covid_df[\"pdf_json_files\"] = covid_df[\"pdf_json_files\"].str.split(\";\").str[0]\n",
    "covid_df.head(3)"
   ]
  },
  {
   "cell_type": "markdown",
   "id": "622a9a6b",
   "metadata": {
    "papermill": {
     "duration": 0.18818,
     "end_time": "2022-01-05T20:49:06.382323",
     "exception": false,
     "start_time": "2022-01-05T20:49:06.194143",
     "status": "completed"
    },
    "tags": []
   },
   "source": [
    "##### Function to format body_text into block of text"
   ]
  },
  {
   "cell_type": "code",
   "execution_count": 11,
   "id": "5fcdebd6",
   "metadata": {
    "execution": {
     "iopub.execute_input": "2022-01-05T20:49:06.768068Z",
     "iopub.status.busy": "2022-01-05T20:49:06.767381Z",
     "iopub.status.idle": "2022-01-05T20:49:06.769822Z",
     "shell.execute_reply": "2022-01-05T20:49:06.769326Z",
     "shell.execute_reply.started": "2022-01-05T11:45:29.215272Z"
    },
    "papermill": {
     "duration": 0.196589,
     "end_time": "2022-01-05T20:49:06.769964",
     "exception": false,
     "start_time": "2022-01-05T20:49:06.573375",
     "status": "completed"
    },
    "tags": []
   },
   "outputs": [],
   "source": [
    "def format_body(body_text):\n",
    "    texts = [(di['section'], di['text']) for di in body_text]\n",
    "    texts_di = {di['section']: \"\" for di in body_text}\n",
    "    for section, text in texts:\n",
    "        texts_di[section] += text\n",
    "    body = \"\"\n",
    "    for section, text in texts_di.items():\n",
    "        body += section\n",
    "        body += \"\\n\\n\"\n",
    "        body += text\n",
    "        body += \"\\n\\n\"\n",
    "    body.encode('utf-8')\n",
    "    return body"
   ]
  },
  {
   "cell_type": "markdown",
   "id": "4f33a29b",
   "metadata": {
    "execution": {
     "iopub.execute_input": "2022-01-04T22:27:20.248746Z",
     "iopub.status.busy": "2022-01-04T22:27:20.248384Z",
     "iopub.status.idle": "2022-01-04T22:27:20.261011Z",
     "shell.execute_reply": "2022-01-04T22:27:20.260001Z",
     "shell.execute_reply.started": "2022-01-04T22:27:20.24869Z"
    },
    "papermill": {
     "duration": 0.190219,
     "end_time": "2022-01-05T20:49:07.147056",
     "exception": false,
     "start_time": "2022-01-05T20:49:06.956837",
     "status": "completed"
    },
    "tags": []
   },
   "source": [
    "##### Load json files and extract the body then add it as a column in the dataset"
   ]
  },
  {
   "cell_type": "code",
   "execution_count": 12,
   "id": "8164f7b6",
   "metadata": {
    "execution": {
     "iopub.execute_input": "2022-01-05T20:49:07.530879Z",
     "iopub.status.busy": "2022-01-05T20:49:07.530192Z",
     "iopub.status.idle": "2022-01-05T20:50:27.177744Z",
     "shell.execute_reply": "2022-01-05T20:50:27.178582Z",
     "shell.execute_reply.started": "2022-01-05T11:45:29.225998Z"
    },
    "papermill": {
     "duration": 79.843319,
     "end_time": "2022-01-05T20:50:27.178972",
     "exception": false,
     "start_time": "2022-01-05T20:49:07.335653",
     "status": "completed"
    },
    "tags": []
   },
   "outputs": [
    {
     "data": {
      "text/html": [
       "<div>\n",
       "<style scoped>\n",
       "    .dataframe tbody tr th:only-of-type {\n",
       "        vertical-align: middle;\n",
       "    }\n",
       "\n",
       "    .dataframe tbody tr th {\n",
       "        vertical-align: top;\n",
       "    }\n",
       "\n",
       "    .dataframe thead th {\n",
       "        text-align: right;\n",
       "    }\n",
       "</style>\n",
       "<table border=\"1\" class=\"dataframe\">\n",
       "  <thead>\n",
       "    <tr style=\"text-align: right;\">\n",
       "      <th></th>\n",
       "      <th>cord_uid</th>\n",
       "      <th>sha</th>\n",
       "      <th>source_x</th>\n",
       "      <th>title</th>\n",
       "      <th>doi</th>\n",
       "      <th>pmcid</th>\n",
       "      <th>pubmed_id</th>\n",
       "      <th>license</th>\n",
       "      <th>abstract</th>\n",
       "      <th>publish_time</th>\n",
       "      <th>authors</th>\n",
       "      <th>journal</th>\n",
       "      <th>mag_id</th>\n",
       "      <th>who_covidence_id</th>\n",
       "      <th>arxiv_id</th>\n",
       "      <th>pdf_json_files</th>\n",
       "      <th>pmc_json_files</th>\n",
       "      <th>url</th>\n",
       "      <th>s2_id</th>\n",
       "      <th>body_text</th>\n",
       "    </tr>\n",
       "  </thead>\n",
       "  <tbody>\n",
       "    <tr>\n",
       "      <th>3492</th>\n",
       "      <td>y9la83zx</td>\n",
       "      <td>90b225bb89b9c6cd53621102fb383cf4fa090891</td>\n",
       "      <td>PMC</td>\n",
       "      <td>Gene Knockdowns in Adult Animals: PPMOs and Vi...</td>\n",
       "      <td>10.3390/molecules14031304</td>\n",
       "      <td>PMC6253989</td>\n",
       "      <td>19325525</td>\n",
       "      <td>cc-by</td>\n",
       "      <td>Antisense molecules do not readily cross cell ...</td>\n",
       "      <td>2009-03-25</td>\n",
       "      <td>Moulton, Jon D.; Jiang, Shan</td>\n",
       "      <td>Molecules</td>\n",
       "      <td>NaN</td>\n",
       "      <td>NaN</td>\n",
       "      <td>NaN</td>\n",
       "      <td>document_parses/pdf_json/90b225bb89b9c6cd53621...</td>\n",
       "      <td>document_parses/pmc_json/PMC6253989.xml.json</td>\n",
       "      <td>https://www.ncbi.nlm.nih.gov/pmc/articles/PMC6...</td>\n",
       "      <td>NaN</td>\n",
       "      <td>Introduction\\n\\nMorpholino oligos are steric-b...</td>\n",
       "    </tr>\n",
       "    <tr>\n",
       "      <th>865226</th>\n",
       "      <td>o6uak5b1</td>\n",
       "      <td>61c53a01cca751529f84193ba571fa471d1fc0ab</td>\n",
       "      <td>Medline; PMC</td>\n",
       "      <td>Modeling the Binding Mechanism of Remdesivir, ...</td>\n",
       "      <td>10.1021/acscentsci.0c01242</td>\n",
       "      <td>PMC7805600</td>\n",
       "      <td>33527086.0</td>\n",
       "      <td>no-cc</td>\n",
       "      <td>[Image: see text] Recent efforts to repurpose ...</td>\n",
       "      <td>2021-01-06</td>\n",
       "      <td>Byléhn, Fabian; Menéndez, Cintia A.; Perez-Lem...</td>\n",
       "      <td>ACS Cent Sci</td>\n",
       "      <td>NaN</td>\n",
       "      <td>NaN</td>\n",
       "      <td>NaN</td>\n",
       "      <td>document_parses/pdf_json/61c53a01cca751529f841...</td>\n",
       "      <td>document_parses/pmc_json/PMC7805600.xml.json</td>\n",
       "      <td>https://doi.org/10.1021/acscentsci.0c01242; ht...</td>\n",
       "      <td>231676250.0</td>\n",
       "      <td>■ INTRODUCTION\\n\\nA new coronavirus of zoonoti...</td>\n",
       "    </tr>\n",
       "    <tr>\n",
       "      <th>50793</th>\n",
       "      <td>zpeupbef</td>\n",
       "      <td>018a5ebef45265eef3aa8e0125a5bdb62768f591</td>\n",
       "      <td>PMC</td>\n",
       "      <td>Pasture Monitoring Applying Normalized Differe...</td>\n",
       "      <td>10.1007/978-3-030-58817-5_41</td>\n",
       "      <td>PMC7975004</td>\n",
       "      <td>NaN</td>\n",
       "      <td>no-cc</td>\n",
       "      <td>The soils have had an increasing pressure due ...</td>\n",
       "      <td>2020-08-24</td>\n",
       "      <td>Fernando, Garrido; Víctor, Caranqui</td>\n",
       "      <td>Computational Science and Its Applications - I...</td>\n",
       "      <td>NaN</td>\n",
       "      <td>NaN</td>\n",
       "      <td>NaN</td>\n",
       "      <td>document_parses/pdf_json/018a5ebef45265eef3aa8...</td>\n",
       "      <td>document_parses/pmc_json/PMC7975004.xml.json</td>\n",
       "      <td>https://www.ncbi.nlm.nih.gov/pmc/articles/PMC7...</td>\n",
       "      <td>NaN</td>\n",
       "      <td>Introduction\\n\\nLivestock in Ecuador depends o...</td>\n",
       "    </tr>\n",
       "  </tbody>\n",
       "</table>\n",
       "</div>"
      ],
      "text/plain": [
       "        cord_uid                                       sha      source_x  \\\n",
       "3492    y9la83zx  90b225bb89b9c6cd53621102fb383cf4fa090891           PMC   \n",
       "865226  o6uak5b1  61c53a01cca751529f84193ba571fa471d1fc0ab  Medline; PMC   \n",
       "50793   zpeupbef  018a5ebef45265eef3aa8e0125a5bdb62768f591           PMC   \n",
       "\n",
       "                                                    title  \\\n",
       "3492    Gene Knockdowns in Adult Animals: PPMOs and Vi...   \n",
       "865226  Modeling the Binding Mechanism of Remdesivir, ...   \n",
       "50793   Pasture Monitoring Applying Normalized Differe...   \n",
       "\n",
       "                                 doi       pmcid   pubmed_id license  \\\n",
       "3492       10.3390/molecules14031304  PMC6253989    19325525   cc-by   \n",
       "865226    10.1021/acscentsci.0c01242  PMC7805600  33527086.0   no-cc   \n",
       "50793   10.1007/978-3-030-58817-5_41  PMC7975004         NaN   no-cc   \n",
       "\n",
       "                                                 abstract publish_time  \\\n",
       "3492    Antisense molecules do not readily cross cell ...   2009-03-25   \n",
       "865226  [Image: see text] Recent efforts to repurpose ...   2021-01-06   \n",
       "50793   The soils have had an increasing pressure due ...   2020-08-24   \n",
       "\n",
       "                                                  authors  \\\n",
       "3492                         Moulton, Jon D.; Jiang, Shan   \n",
       "865226  Byléhn, Fabian; Menéndez, Cintia A.; Perez-Lem...   \n",
       "50793                 Fernando, Garrido; Víctor, Caranqui   \n",
       "\n",
       "                                                  journal  mag_id  \\\n",
       "3492                                            Molecules     NaN   \n",
       "865226                                       ACS Cent Sci     NaN   \n",
       "50793   Computational Science and Its Applications - I...     NaN   \n",
       "\n",
       "       who_covidence_id arxiv_id  \\\n",
       "3492                NaN      NaN   \n",
       "865226              NaN      NaN   \n",
       "50793               NaN      NaN   \n",
       "\n",
       "                                           pdf_json_files  \\\n",
       "3492    document_parses/pdf_json/90b225bb89b9c6cd53621...   \n",
       "865226  document_parses/pdf_json/61c53a01cca751529f841...   \n",
       "50793   document_parses/pdf_json/018a5ebef45265eef3aa8...   \n",
       "\n",
       "                                      pmc_json_files  \\\n",
       "3492    document_parses/pmc_json/PMC6253989.xml.json   \n",
       "865226  document_parses/pmc_json/PMC7805600.xml.json   \n",
       "50793   document_parses/pmc_json/PMC7975004.xml.json   \n",
       "\n",
       "                                                      url        s2_id  \\\n",
       "3492    https://www.ncbi.nlm.nih.gov/pmc/articles/PMC6...          NaN   \n",
       "865226  https://doi.org/10.1021/acscentsci.0c01242; ht...  231676250.0   \n",
       "50793   https://www.ncbi.nlm.nih.gov/pmc/articles/PMC7...          NaN   \n",
       "\n",
       "                                                body_text  \n",
       "3492    Introduction\\n\\nMorpholino oligos are steric-b...  \n",
       "865226  ■ INTRODUCTION\\n\\nA new coronavirus of zoonoti...  \n",
       "50793   Introduction\\n\\nLivestock in Ecuador depends o...  "
      ]
     },
     "execution_count": 12,
     "metadata": {},
     "output_type": "execute_result"
    }
   ],
   "source": [
    "path_to_json ='../input/CORD-19-research-challenge/'\n",
    "body_text = []\n",
    "for filename in covid_df['pdf_json_files']:\n",
    "    filename = path_to_json + filename \n",
    "    my_json_file = json.load(open(filename, 'r'))\n",
    "    body_text.append(format_body(my_json_file['body_text']))\n",
    "covid_df['body_text'] = body_text\n",
    "covid_df.head(3)"
   ]
  },
  {
   "cell_type": "code",
   "execution_count": 13,
   "id": "e8c0d88e",
   "metadata": {
    "execution": {
     "iopub.execute_input": "2022-01-05T20:50:27.640403Z",
     "iopub.status.busy": "2022-01-05T20:50:27.639676Z",
     "iopub.status.idle": "2022-01-05T20:50:27.654889Z",
     "shell.execute_reply": "2022-01-05T20:50:27.655368Z",
     "shell.execute_reply.started": "2022-01-05T11:46:33.101905Z"
    },
    "papermill": {
     "duration": 0.28467,
     "end_time": "2022-01-05T20:50:27.655558",
     "exception": false,
     "start_time": "2022-01-05T20:50:27.370888",
     "status": "completed"
    },
    "tags": []
   },
   "outputs": [
    {
     "name": "stdout",
     "output_type": "stream",
     "text": [
      "<class 'pandas.core.frame.DataFrame'>\n",
      "Int64Index: 8816 entries, 3492 to 767627\n",
      "Data columns (total 20 columns):\n",
      " #   Column            Non-Null Count  Dtype  \n",
      "---  ------            --------------  -----  \n",
      " 0   cord_uid          8816 non-null   object \n",
      " 1   sha               8816 non-null   object \n",
      " 2   source_x          8816 non-null   object \n",
      " 3   title             8816 non-null   object \n",
      " 4   doi               8476 non-null   object \n",
      " 5   pmcid             7885 non-null   object \n",
      " 6   pubmed_id         6974 non-null   object \n",
      " 7   license           8816 non-null   object \n",
      " 8   abstract          7561 non-null   object \n",
      " 9   publish_time      8816 non-null   object \n",
      " 10  authors           8745 non-null   object \n",
      " 11  journal           7997 non-null   object \n",
      " 12  mag_id            0 non-null      float64\n",
      " 13  who_covidence_id  0 non-null      object \n",
      " 14  arxiv_id          353 non-null    object \n",
      " 15  pdf_json_files    8816 non-null   object \n",
      " 16  pmc_json_files    6891 non-null   object \n",
      " 17  url               8816 non-null   object \n",
      " 18  s2_id             7422 non-null   float64\n",
      " 19  body_text         8816 non-null   object \n",
      "dtypes: float64(2), object(18)\n",
      "memory usage: 1.4+ MB\n"
     ]
    }
   ],
   "source": [
    "covid_df.info()"
   ]
  },
  {
   "cell_type": "markdown",
   "id": "7c73a28f",
   "metadata": {
    "papermill": {
     "duration": 0.191163,
     "end_time": "2022-01-05T20:50:28.039015",
     "exception": false,
     "start_time": "2022-01-05T20:50:27.847852",
     "status": "completed"
    },
    "tags": []
   },
   "source": [
    "# Preparation and Cleaning the data"
   ]
  },
  {
   "cell_type": "markdown",
   "id": "bb759e7e",
   "metadata": {
    "papermill": {
     "duration": 0.221206,
     "end_time": "2022-01-05T20:50:28.449603",
     "exception": false,
     "start_time": "2022-01-05T20:50:28.228397",
     "status": "completed"
    },
    "tags": []
   },
   "source": [
    "##### Select columns that will be used in the trasformation"
   ]
  },
  {
   "cell_type": "code",
   "execution_count": 14,
   "id": "815dd4d8",
   "metadata": {
    "execution": {
     "iopub.execute_input": "2022-01-05T20:50:28.898517Z",
     "iopub.status.busy": "2022-01-05T20:50:28.897370Z",
     "iopub.status.idle": "2022-01-05T20:50:28.942185Z",
     "shell.execute_reply": "2022-01-05T20:50:28.942970Z",
     "shell.execute_reply.started": "2022-01-05T11:46:33.159769Z"
    },
    "papermill": {
     "duration": 0.290455,
     "end_time": "2022-01-05T20:50:28.943226",
     "exception": false,
     "start_time": "2022-01-05T20:50:28.652771",
     "status": "completed"
    },
    "tags": []
   },
   "outputs": [
    {
     "name": "stdout",
     "output_type": "stream",
     "text": [
      "<class 'pandas.core.frame.DataFrame'>\n",
      "Int64Index: 8816 entries, 3492 to 767627\n",
      "Data columns (total 8 columns):\n",
      " #   Column        Non-Null Count  Dtype \n",
      "---  ------        --------------  ----- \n",
      " 0   cord_uid      8816 non-null   object\n",
      " 1   title         8816 non-null   object\n",
      " 2   abstract      7561 non-null   object\n",
      " 3   body_text     8816 non-null   object\n",
      " 4   doi           8476 non-null   object\n",
      " 5   authors       8745 non-null   object\n",
      " 6   journal       7997 non-null   object\n",
      " 7   publish_time  8816 non-null   object\n",
      "dtypes: object(8)\n",
      "memory usage: 619.9+ KB\n"
     ]
    },
    {
     "data": {
      "text/plain": [
       "8816"
      ]
     },
     "execution_count": 14,
     "metadata": {},
     "output_type": "execute_result"
    }
   ],
   "source": [
    "SelectedFeature = covid_df[['cord_uid','title','abstract','body_text','doi', 'authors', 'journal', 'publish_time']]\n",
    "SelectedFeature.info()\n",
    "len(SelectedFeature) "
   ]
  },
  {
   "cell_type": "markdown",
   "id": "62d6918e",
   "metadata": {
    "papermill": {
     "duration": 0.197128,
     "end_time": "2022-01-05T20:50:29.356490",
     "exception": false,
     "start_time": "2022-01-05T20:50:29.159362",
     "status": "completed"
    },
    "tags": []
   },
   "source": [
    "#### Drop Duplicated values"
   ]
  },
  {
   "cell_type": "code",
   "execution_count": 15,
   "id": "9bd6564f",
   "metadata": {
    "execution": {
     "iopub.execute_input": "2022-01-05T20:50:30.339885Z",
     "iopub.status.busy": "2022-01-05T20:50:29.778243Z",
     "iopub.status.idle": "2022-01-05T20:50:30.867024Z",
     "shell.execute_reply": "2022-01-05T20:50:30.867522Z",
     "shell.execute_reply.started": "2022-01-05T11:46:33.220823Z"
    },
    "papermill": {
     "duration": 1.308954,
     "end_time": "2022-01-05T20:50:30.867688",
     "exception": false,
     "start_time": "2022-01-05T20:50:29.558734",
     "status": "completed"
    },
    "tags": []
   },
   "outputs": [
    {
     "data": {
      "text/plain": [
       "8816"
      ]
     },
     "execution_count": 15,
     "metadata": {},
     "output_type": "execute_result"
    }
   ],
   "source": [
    "SelectedFeature=SelectedFeature.drop_duplicates(['abstract','body_text'])\n",
    "len(SelectedFeature)"
   ]
  },
  {
   "cell_type": "markdown",
   "id": "fadf9859",
   "metadata": {
    "papermill": {
     "duration": 0.194352,
     "end_time": "2022-01-05T20:50:31.265991",
     "exception": false,
     "start_time": "2022-01-05T20:50:31.071639",
     "status": "completed"
    },
    "tags": []
   },
   "source": [
    "#### Drop Null values"
   ]
  },
  {
   "cell_type": "code",
   "execution_count": 16,
   "id": "190c04a5",
   "metadata": {
    "execution": {
     "iopub.execute_input": "2022-01-05T20:50:31.651562Z",
     "iopub.status.busy": "2022-01-05T20:50:31.650640Z",
     "iopub.status.idle": "2022-01-05T20:50:31.677078Z",
     "shell.execute_reply": "2022-01-05T20:50:31.677536Z",
     "shell.execute_reply.started": "2022-01-05T11:46:34.203953Z"
    },
    "papermill": {
     "duration": 0.221326,
     "end_time": "2022-01-05T20:50:31.677719",
     "exception": false,
     "start_time": "2022-01-05T20:50:31.456393",
     "status": "completed"
    },
    "tags": []
   },
   "outputs": [
    {
     "data": {
      "text/plain": [
       "6735"
      ]
     },
     "execution_count": 16,
     "metadata": {},
     "output_type": "execute_result"
    }
   ],
   "source": [
    "SelectedFeature.dropna(inplace = True)\n",
    "len(SelectedFeature)"
   ]
  },
  {
   "cell_type": "markdown",
   "id": "295d446d",
   "metadata": {
    "papermill": {
     "duration": 0.189198,
     "end_time": "2022-01-05T20:50:32.055357",
     "exception": false,
     "start_time": "2022-01-05T20:50:31.866159",
     "status": "completed"
    },
    "tags": []
   },
   "source": [
    "#### Determine the Languge of each article"
   ]
  },
  {
   "cell_type": "code",
   "execution_count": 17,
   "id": "79eb0ede",
   "metadata": {
    "execution": {
     "iopub.execute_input": "2022-01-05T20:50:32.452287Z",
     "iopub.status.busy": "2022-01-05T20:50:32.451546Z",
     "iopub.status.idle": "2022-01-05T20:51:28.722463Z",
     "shell.execute_reply": "2022-01-05T20:51:28.721838Z",
     "shell.execute_reply.started": "2022-01-05T11:46:34.23346Z"
    },
    "papermill": {
     "duration": 56.478009,
     "end_time": "2022-01-05T20:51:28.722603",
     "exception": false,
     "start_time": "2022-01-05T20:50:32.244594",
     "status": "completed"
    },
    "tags": []
   },
   "outputs": [
    {
     "name": "stderr",
     "output_type": "stream",
     "text": [
      "100%|██████████| 6735/6735 [00:56<00:00, 119.71it/s]\n"
     ]
    }
   ],
   "source": [
    "# set seed\n",
    "DetectorFactory.seed = 0\n",
    "# hold label - language\n",
    "languages = []\n",
    "# go through each text\n",
    "for ii in tqdm(range(0,len(SelectedFeature))):\n",
    "    # split by space into list, take the first x intex, join with space\n",
    "    text = SelectedFeature.iloc[ii]['body_text'].split(\" \")\n",
    "    lang = \"en\"\n",
    "    try:\n",
    "        if len(text) > 50:\n",
    "            lang = detect(\" \".join(text[:50]))\n",
    "        elif len(text) > 0:\n",
    "            lang = detect(\" \".join(text[:len(text)]))\n",
    "    # ught... beginning of the document was not in a good format\n",
    "    except Exception as e:\n",
    "        all_words = set(text)\n",
    "        try:\n",
    "            lang = detect(\" \".join(all_words))\n",
    "        # what!! :( let's see if we can find any text in abstract...\n",
    "        except Exception as e: \n",
    "            try:\n",
    "                # let's try to label it through the abstract then\n",
    "                lang = detect(df.iloc[ii]['abstract_summary'])\n",
    "            except Exception as e:\n",
    "                lang = \"unknown\"\n",
    "                pass\n",
    "    \n",
    "    # get the language    \n",
    "    languages.append(lang)"
   ]
  },
  {
   "cell_type": "markdown",
   "id": "04b6676f",
   "metadata": {
    "papermill": {
     "duration": 0.342463,
     "end_time": "2022-01-05T20:51:29.419426",
     "exception": false,
     "start_time": "2022-01-05T20:51:29.076963",
     "status": "completed"
    },
    "tags": []
   },
   "source": [
    "##### Showing the count of each languge article exist in dataset"
   ]
  },
  {
   "cell_type": "code",
   "execution_count": 18,
   "id": "1e960bb1",
   "metadata": {
    "execution": {
     "iopub.execute_input": "2022-01-05T20:51:30.120243Z",
     "iopub.status.busy": "2022-01-05T20:51:30.119250Z",
     "iopub.status.idle": "2022-01-05T20:51:30.124078Z",
     "shell.execute_reply": "2022-01-05T20:51:30.124599Z",
     "shell.execute_reply.started": "2022-01-05T11:47:37.10793Z"
    },
    "papermill": {
     "duration": 0.360782,
     "end_time": "2022-01-05T20:51:30.124799",
     "exception": false,
     "start_time": "2022-01-05T20:51:29.764017",
     "status": "completed"
    },
    "tags": []
   },
   "outputs": [
    {
     "name": "stdout",
     "output_type": "stream",
     "text": [
      "Total: 6735\n",
      "\n",
      "{'de': 62,\n",
      " 'en': 6616,\n",
      " 'es': 23,\n",
      " 'et': 1,\n",
      " 'fr': 17,\n",
      " 'nl': 6,\n",
      " 'pt': 6,\n",
      " 'so': 1,\n",
      " 'sv': 1,\n",
      " 'tl': 2}\n"
     ]
    }
   ],
   "source": [
    "languages_dict = {}\n",
    "for lang in set(languages):\n",
    "    languages_dict[lang]= languages.count(lang)\n",
    "    \n",
    "print(\"Total: {}\\n\".format(len(languages)))\n",
    "pprint(languages_dict)"
   ]
  },
  {
   "cell_type": "markdown",
   "id": "4ff9b3bf",
   "metadata": {
    "papermill": {
     "duration": 0.343087,
     "end_time": "2022-01-05T20:51:30.812548",
     "exception": false,
     "start_time": "2022-01-05T20:51:30.469461",
     "status": "completed"
    },
    "tags": []
   },
   "source": [
    "#### Add Column Languge to the Dataframe "
   ]
  },
  {
   "cell_type": "code",
   "execution_count": 19,
   "id": "d8519b5b",
   "metadata": {
    "_kg_hide-output": true,
    "execution": {
     "iopub.execute_input": "2022-01-05T20:51:31.506420Z",
     "iopub.status.busy": "2022-01-05T20:51:31.505796Z",
     "iopub.status.idle": "2022-01-05T20:51:31.508311Z",
     "shell.execute_reply": "2022-01-05T20:51:31.507673Z",
     "shell.execute_reply.started": "2022-01-05T11:47:37.122937Z"
    },
    "papermill": {
     "duration": 0.351855,
     "end_time": "2022-01-05T20:51:31.508448",
     "exception": false,
     "start_time": "2022-01-05T20:51:31.156593",
     "status": "completed"
    },
    "tags": []
   },
   "outputs": [],
   "source": [
    "SelectedFeature['language'] = languages"
   ]
  },
  {
   "cell_type": "code",
   "execution_count": 20,
   "id": "58556d10",
   "metadata": {
    "execution": {
     "iopub.execute_input": "2022-01-05T20:51:32.214957Z",
     "iopub.status.busy": "2022-01-05T20:51:32.214268Z",
     "iopub.status.idle": "2022-01-05T20:51:32.219033Z",
     "shell.execute_reply": "2022-01-05T20:51:32.219459Z",
     "shell.execute_reply.started": "2022-01-05T11:47:37.139233Z"
    },
    "papermill": {
     "duration": 0.364372,
     "end_time": "2022-01-05T20:51:32.219642",
     "exception": false,
     "start_time": "2022-01-05T20:51:31.855270",
     "status": "completed"
    },
    "tags": []
   },
   "outputs": [
    {
     "data": {
      "text/html": [
       "<div>\n",
       "<style scoped>\n",
       "    .dataframe tbody tr th:only-of-type {\n",
       "        vertical-align: middle;\n",
       "    }\n",
       "\n",
       "    .dataframe tbody tr th {\n",
       "        vertical-align: top;\n",
       "    }\n",
       "\n",
       "    .dataframe thead th {\n",
       "        text-align: right;\n",
       "    }\n",
       "</style>\n",
       "<table border=\"1\" class=\"dataframe\">\n",
       "  <thead>\n",
       "    <tr style=\"text-align: right;\">\n",
       "      <th></th>\n",
       "      <th>cord_uid</th>\n",
       "      <th>title</th>\n",
       "      <th>abstract</th>\n",
       "      <th>body_text</th>\n",
       "      <th>doi</th>\n",
       "      <th>authors</th>\n",
       "      <th>journal</th>\n",
       "      <th>publish_time</th>\n",
       "      <th>language</th>\n",
       "    </tr>\n",
       "  </thead>\n",
       "  <tbody>\n",
       "    <tr>\n",
       "      <th>3492</th>\n",
       "      <td>y9la83zx</td>\n",
       "      <td>Gene Knockdowns in Adult Animals: PPMOs and Vi...</td>\n",
       "      <td>Antisense molecules do not readily cross cell ...</td>\n",
       "      <td>Introduction\\n\\nMorpholino oligos are steric-b...</td>\n",
       "      <td>10.3390/molecules14031304</td>\n",
       "      <td>Moulton, Jon D.; Jiang, Shan</td>\n",
       "      <td>Molecules</td>\n",
       "      <td>2009-03-25</td>\n",
       "      <td>en</td>\n",
       "    </tr>\n",
       "    <tr>\n",
       "      <th>865226</th>\n",
       "      <td>o6uak5b1</td>\n",
       "      <td>Modeling the Binding Mechanism of Remdesivir, ...</td>\n",
       "      <td>[Image: see text] Recent efforts to repurpose ...</td>\n",
       "      <td>■ INTRODUCTION\\n\\nA new coronavirus of zoonoti...</td>\n",
       "      <td>10.1021/acscentsci.0c01242</td>\n",
       "      <td>Byléhn, Fabian; Menéndez, Cintia A.; Perez-Lem...</td>\n",
       "      <td>ACS Cent Sci</td>\n",
       "      <td>2021-01-06</td>\n",
       "      <td>en</td>\n",
       "    </tr>\n",
       "    <tr>\n",
       "      <th>50793</th>\n",
       "      <td>zpeupbef</td>\n",
       "      <td>Pasture Monitoring Applying Normalized Differe...</td>\n",
       "      <td>The soils have had an increasing pressure due ...</td>\n",
       "      <td>Introduction\\n\\nLivestock in Ecuador depends o...</td>\n",
       "      <td>10.1007/978-3-030-58817-5_41</td>\n",
       "      <td>Fernando, Garrido; Víctor, Caranqui</td>\n",
       "      <td>Computational Science and Its Applications - I...</td>\n",
       "      <td>2020-08-24</td>\n",
       "      <td>en</td>\n",
       "    </tr>\n",
       "  </tbody>\n",
       "</table>\n",
       "</div>"
      ],
      "text/plain": [
       "        cord_uid                                              title  \\\n",
       "3492    y9la83zx  Gene Knockdowns in Adult Animals: PPMOs and Vi...   \n",
       "865226  o6uak5b1  Modeling the Binding Mechanism of Remdesivir, ...   \n",
       "50793   zpeupbef  Pasture Monitoring Applying Normalized Differe...   \n",
       "\n",
       "                                                 abstract  \\\n",
       "3492    Antisense molecules do not readily cross cell ...   \n",
       "865226  [Image: see text] Recent efforts to repurpose ...   \n",
       "50793   The soils have had an increasing pressure due ...   \n",
       "\n",
       "                                                body_text  \\\n",
       "3492    Introduction\\n\\nMorpholino oligos are steric-b...   \n",
       "865226  ■ INTRODUCTION\\n\\nA new coronavirus of zoonoti...   \n",
       "50793   Introduction\\n\\nLivestock in Ecuador depends o...   \n",
       "\n",
       "                                 doi  \\\n",
       "3492       10.3390/molecules14031304   \n",
       "865226    10.1021/acscentsci.0c01242   \n",
       "50793   10.1007/978-3-030-58817-5_41   \n",
       "\n",
       "                                                  authors  \\\n",
       "3492                         Moulton, Jon D.; Jiang, Shan   \n",
       "865226  Byléhn, Fabian; Menéndez, Cintia A.; Perez-Lem...   \n",
       "50793                 Fernando, Garrido; Víctor, Caranqui   \n",
       "\n",
       "                                                  journal publish_time  \\\n",
       "3492                                            Molecules   2009-03-25   \n",
       "865226                                       ACS Cent Sci   2021-01-06   \n",
       "50793   Computational Science and Its Applications - I...   2020-08-24   \n",
       "\n",
       "       language  \n",
       "3492         en  \n",
       "865226       en  \n",
       "50793        en  "
      ]
     },
     "execution_count": 20,
     "metadata": {},
     "output_type": "execute_result"
    }
   ],
   "source": [
    "SelectedFeature.head(3)"
   ]
  },
  {
   "cell_type": "markdown",
   "id": "5db49f73",
   "metadata": {
    "papermill": {
     "duration": 0.406954,
     "end_time": "2022-01-05T20:51:32.992776",
     "exception": false,
     "start_time": "2022-01-05T20:51:32.585822",
     "status": "completed"
    },
    "tags": []
   },
   "source": [
    "#### Filter the Article in English Languge"
   ]
  },
  {
   "cell_type": "code",
   "execution_count": 21,
   "id": "f3835d64",
   "metadata": {
    "execution": {
     "iopub.execute_input": "2022-01-05T20:51:33.702559Z",
     "iopub.status.busy": "2022-01-05T20:51:33.701513Z",
     "iopub.status.idle": "2022-01-05T20:51:33.730382Z",
     "shell.execute_reply": "2022-01-05T20:51:33.729862Z",
     "shell.execute_reply.started": "2022-01-05T11:47:37.16705Z"
    },
    "papermill": {
     "duration": 0.385505,
     "end_time": "2022-01-05T20:51:33.730527",
     "exception": false,
     "start_time": "2022-01-05T20:51:33.345022",
     "status": "completed"
    },
    "tags": []
   },
   "outputs": [
    {
     "name": "stdout",
     "output_type": "stream",
     "text": [
      "<class 'pandas.core.frame.DataFrame'>\n",
      "Int64Index: 6616 entries, 3492 to 724672\n",
      "Data columns (total 8 columns):\n",
      " #   Column        Non-Null Count  Dtype \n",
      "---  ------        --------------  ----- \n",
      " 0   cord_uid      6616 non-null   object\n",
      " 1   title         6616 non-null   object\n",
      " 2   abstract      6616 non-null   object\n",
      " 3   body_text     6616 non-null   object\n",
      " 4   doi           6616 non-null   object\n",
      " 5   authors       6616 non-null   object\n",
      " 6   journal       6616 non-null   object\n",
      " 7   publish_time  6616 non-null   object\n",
      "dtypes: object(8)\n",
      "memory usage: 465.2+ KB\n"
     ]
    }
   ],
   "source": [
    "SelectedFeatureEN = SelectedFeature[SelectedFeature['language'] == 'en']\n",
    "SelectedFeatureEN = SelectedFeatureEN[['cord_uid','title','abstract','body_text', 'doi', 'authors', 'journal', 'publish_time']]\n",
    "SelectedFeatureEN.info()"
   ]
  },
  {
   "cell_type": "markdown",
   "id": "cd7e8141",
   "metadata": {
    "papermill": {
     "duration": 0.345834,
     "end_time": "2022-01-05T20:51:34.424058",
     "exception": false,
     "start_time": "2022-01-05T20:51:34.078224",
     "status": "completed"
    },
    "tags": []
   },
   "source": [
    "#### Define the function to remove the punctuation"
   ]
  },
  {
   "cell_type": "code",
   "execution_count": 22,
   "id": "8b00a961",
   "metadata": {
    "execution": {
     "iopub.execute_input": "2022-01-05T20:51:35.130951Z",
     "iopub.status.busy": "2022-01-05T20:51:35.125703Z",
     "iopub.status.idle": "2022-01-05T20:51:39.769715Z",
     "shell.execute_reply": "2022-01-05T20:51:39.770181Z",
     "shell.execute_reply.started": "2022-01-05T11:47:37.218575Z"
    },
    "papermill": {
     "duration": 5.000348,
     "end_time": "2022-01-05T20:51:39.770357",
     "exception": false,
     "start_time": "2022-01-05T20:51:34.770009",
     "status": "completed"
    },
    "tags": []
   },
   "outputs": [
    {
     "data": {
      "text/html": [
       "<div>\n",
       "<style scoped>\n",
       "    .dataframe tbody tr th:only-of-type {\n",
       "        vertical-align: middle;\n",
       "    }\n",
       "\n",
       "    .dataframe tbody tr th {\n",
       "        vertical-align: top;\n",
       "    }\n",
       "\n",
       "    .dataframe thead th {\n",
       "        text-align: right;\n",
       "    }\n",
       "</style>\n",
       "<table border=\"1\" class=\"dataframe\">\n",
       "  <thead>\n",
       "    <tr style=\"text-align: right;\">\n",
       "      <th></th>\n",
       "      <th>cord_uid</th>\n",
       "      <th>title</th>\n",
       "      <th>abstract</th>\n",
       "      <th>body_text</th>\n",
       "      <th>doi</th>\n",
       "      <th>authors</th>\n",
       "      <th>journal</th>\n",
       "      <th>publish_time</th>\n",
       "    </tr>\n",
       "  </thead>\n",
       "  <tbody>\n",
       "    <tr>\n",
       "      <th>3492</th>\n",
       "      <td>y9la83zx</td>\n",
       "      <td>Gene Knockdowns in Adult Animals PPMOs and Viv...</td>\n",
       "      <td>Antisense molecules do not readily cross cell ...</td>\n",
       "      <td>Introduction\\n\\nMorpholino oligos are stericbl...</td>\n",
       "      <td>10.3390/molecules14031304</td>\n",
       "      <td>Moulton, Jon D.; Jiang, Shan</td>\n",
       "      <td>Molecules</td>\n",
       "      <td>2009-03-25</td>\n",
       "    </tr>\n",
       "    <tr>\n",
       "      <th>865226</th>\n",
       "      <td>o6uak5b1</td>\n",
       "      <td>Modeling the Binding Mechanism of Remdesivir F...</td>\n",
       "      <td>Image see text Recent efforts to repurpose dru...</td>\n",
       "      <td>■ INTRODUCTION\\n\\nA new coronavirus of zoonoti...</td>\n",
       "      <td>10.1021/acscentsci.0c01242</td>\n",
       "      <td>Byléhn, Fabian; Menéndez, Cintia A.; Perez-Lem...</td>\n",
       "      <td>ACS Cent Sci</td>\n",
       "      <td>2021-01-06</td>\n",
       "    </tr>\n",
       "    <tr>\n",
       "      <th>50793</th>\n",
       "      <td>zpeupbef</td>\n",
       "      <td>Pasture Monitoring Applying Normalized Differe...</td>\n",
       "      <td>The soils have had an increasing pressure due ...</td>\n",
       "      <td>Introduction\\n\\nLivestock in Ecuador depends o...</td>\n",
       "      <td>10.1007/978-3-030-58817-5_41</td>\n",
       "      <td>Fernando, Garrido; Víctor, Caranqui</td>\n",
       "      <td>Computational Science and Its Applications - I...</td>\n",
       "      <td>2020-08-24</td>\n",
       "    </tr>\n",
       "  </tbody>\n",
       "</table>\n",
       "</div>"
      ],
      "text/plain": [
       "        cord_uid                                              title  \\\n",
       "3492    y9la83zx  Gene Knockdowns in Adult Animals PPMOs and Viv...   \n",
       "865226  o6uak5b1  Modeling the Binding Mechanism of Remdesivir F...   \n",
       "50793   zpeupbef  Pasture Monitoring Applying Normalized Differe...   \n",
       "\n",
       "                                                 abstract  \\\n",
       "3492    Antisense molecules do not readily cross cell ...   \n",
       "865226  Image see text Recent efforts to repurpose dru...   \n",
       "50793   The soils have had an increasing pressure due ...   \n",
       "\n",
       "                                                body_text  \\\n",
       "3492    Introduction\\n\\nMorpholino oligos are stericbl...   \n",
       "865226  ■ INTRODUCTION\\n\\nA new coronavirus of zoonoti...   \n",
       "50793   Introduction\\n\\nLivestock in Ecuador depends o...   \n",
       "\n",
       "                                 doi  \\\n",
       "3492       10.3390/molecules14031304   \n",
       "865226    10.1021/acscentsci.0c01242   \n",
       "50793   10.1007/978-3-030-58817-5_41   \n",
       "\n",
       "                                                  authors  \\\n",
       "3492                         Moulton, Jon D.; Jiang, Shan   \n",
       "865226  Byléhn, Fabian; Menéndez, Cintia A.; Perez-Lem...   \n",
       "50793                 Fernando, Garrido; Víctor, Caranqui   \n",
       "\n",
       "                                                  journal publish_time  \n",
       "3492                                            Molecules   2009-03-25  \n",
       "865226                                       ACS Cent Sci   2021-01-06  \n",
       "50793   Computational Science and Its Applications - I...   2020-08-24  "
      ]
     },
     "execution_count": 22,
     "metadata": {},
     "output_type": "execute_result"
    }
   ],
   "source": [
    "def remove_punctuations(text):\n",
    "    for punctuation in string.punctuation:\n",
    "        text = text.replace(punctuation, '')\n",
    "    return text\n",
    "# Apply to the DF series\n",
    "SelectedFeatureEN['title'] = SelectedFeatureEN['title'].apply(remove_punctuations)\n",
    "SelectedFeatureEN['abstract'] = SelectedFeatureEN['abstract'].apply(remove_punctuations)\n",
    "SelectedFeatureEN['body_text'] = SelectedFeatureEN['body_text'].apply(remove_punctuations)\n",
    "SelectedFeatureEN.head(3) "
   ]
  },
  {
   "cell_type": "markdown",
   "id": "8141cc19",
   "metadata": {
    "papermill": {
     "duration": 0.350615,
     "end_time": "2022-01-05T20:51:40.477003",
     "exception": false,
     "start_time": "2022-01-05T20:51:40.126388",
     "status": "completed"
    },
    "tags": []
   },
   "source": [
    "#### Set all words in lower case"
   ]
  },
  {
   "cell_type": "code",
   "execution_count": 23,
   "id": "fed84098",
   "metadata": {
    "execution": {
     "iopub.execute_input": "2022-01-05T20:51:41.244685Z",
     "iopub.status.busy": "2022-01-05T20:51:41.244002Z",
     "iopub.status.idle": "2022-01-05T20:51:42.180419Z",
     "shell.execute_reply": "2022-01-05T20:51:42.179885Z",
     "shell.execute_reply.started": "2022-01-05T11:47:41.952223Z"
    },
    "papermill": {
     "duration": 1.349163,
     "end_time": "2022-01-05T20:51:42.180588",
     "exception": false,
     "start_time": "2022-01-05T20:51:40.831425",
     "status": "completed"
    },
    "tags": []
   },
   "outputs": [
    {
     "data": {
      "text/html": [
       "<div>\n",
       "<style scoped>\n",
       "    .dataframe tbody tr th:only-of-type {\n",
       "        vertical-align: middle;\n",
       "    }\n",
       "\n",
       "    .dataframe tbody tr th {\n",
       "        vertical-align: top;\n",
       "    }\n",
       "\n",
       "    .dataframe thead th {\n",
       "        text-align: right;\n",
       "    }\n",
       "</style>\n",
       "<table border=\"1\" class=\"dataframe\">\n",
       "  <thead>\n",
       "    <tr style=\"text-align: right;\">\n",
       "      <th></th>\n",
       "      <th>cord_uid</th>\n",
       "      <th>title</th>\n",
       "      <th>abstract</th>\n",
       "      <th>body_text</th>\n",
       "      <th>doi</th>\n",
       "      <th>authors</th>\n",
       "      <th>journal</th>\n",
       "      <th>publish_time</th>\n",
       "    </tr>\n",
       "  </thead>\n",
       "  <tbody>\n",
       "    <tr>\n",
       "      <th>3492</th>\n",
       "      <td>y9la83zx</td>\n",
       "      <td>gene knockdowns in adult animals ppmos and viv...</td>\n",
       "      <td>antisense molecules do not readily cross cell ...</td>\n",
       "      <td>introduction\\n\\nmorpholino oligos are stericbl...</td>\n",
       "      <td>10.3390/molecules14031304</td>\n",
       "      <td>Moulton, Jon D.; Jiang, Shan</td>\n",
       "      <td>Molecules</td>\n",
       "      <td>2009-03-25</td>\n",
       "    </tr>\n",
       "    <tr>\n",
       "      <th>865226</th>\n",
       "      <td>o6uak5b1</td>\n",
       "      <td>modeling the binding mechanism of remdesivir f...</td>\n",
       "      <td>image see text recent efforts to repurpose dru...</td>\n",
       "      <td>■ introduction\\n\\na new coronavirus of zoonoti...</td>\n",
       "      <td>10.1021/acscentsci.0c01242</td>\n",
       "      <td>Byléhn, Fabian; Menéndez, Cintia A.; Perez-Lem...</td>\n",
       "      <td>ACS Cent Sci</td>\n",
       "      <td>2021-01-06</td>\n",
       "    </tr>\n",
       "    <tr>\n",
       "      <th>50793</th>\n",
       "      <td>zpeupbef</td>\n",
       "      <td>pasture monitoring applying normalized differe...</td>\n",
       "      <td>the soils have had an increasing pressure due ...</td>\n",
       "      <td>introduction\\n\\nlivestock in ecuador depends o...</td>\n",
       "      <td>10.1007/978-3-030-58817-5_41</td>\n",
       "      <td>Fernando, Garrido; Víctor, Caranqui</td>\n",
       "      <td>Computational Science and Its Applications - I...</td>\n",
       "      <td>2020-08-24</td>\n",
       "    </tr>\n",
       "  </tbody>\n",
       "</table>\n",
       "</div>"
      ],
      "text/plain": [
       "        cord_uid                                              title  \\\n",
       "3492    y9la83zx  gene knockdowns in adult animals ppmos and viv...   \n",
       "865226  o6uak5b1  modeling the binding mechanism of remdesivir f...   \n",
       "50793   zpeupbef  pasture monitoring applying normalized differe...   \n",
       "\n",
       "                                                 abstract  \\\n",
       "3492    antisense molecules do not readily cross cell ...   \n",
       "865226  image see text recent efforts to repurpose dru...   \n",
       "50793   the soils have had an increasing pressure due ...   \n",
       "\n",
       "                                                body_text  \\\n",
       "3492    introduction\\n\\nmorpholino oligos are stericbl...   \n",
       "865226  ■ introduction\\n\\na new coronavirus of zoonoti...   \n",
       "50793   introduction\\n\\nlivestock in ecuador depends o...   \n",
       "\n",
       "                                 doi  \\\n",
       "3492       10.3390/molecules14031304   \n",
       "865226    10.1021/acscentsci.0c01242   \n",
       "50793   10.1007/978-3-030-58817-5_41   \n",
       "\n",
       "                                                  authors  \\\n",
       "3492                         Moulton, Jon D.; Jiang, Shan   \n",
       "865226  Byléhn, Fabian; Menéndez, Cintia A.; Perez-Lem...   \n",
       "50793                 Fernando, Garrido; Víctor, Caranqui   \n",
       "\n",
       "                                                  journal publish_time  \n",
       "3492                                            Molecules   2009-03-25  \n",
       "865226                                       ACS Cent Sci   2021-01-06  \n",
       "50793   Computational Science and Its Applications - I...   2020-08-24  "
      ]
     },
     "execution_count": 23,
     "metadata": {},
     "output_type": "execute_result"
    }
   ],
   "source": [
    "SelectedFeatureEN['title']=SelectedFeatureEN['title'].str.lower()\n",
    "SelectedFeatureEN['abstract']=SelectedFeatureEN['abstract'].str.lower()\n",
    "SelectedFeatureEN['body_text']=SelectedFeatureEN['body_text'].str.lower()\n",
    "SelectedFeatureEN.head(3) "
   ]
  },
  {
   "cell_type": "markdown",
   "id": "38a001fa",
   "metadata": {
    "execution": {
     "iopub.execute_input": "2022-01-05T08:05:11.934056Z",
     "iopub.status.busy": "2022-01-05T08:05:11.93369Z",
     "iopub.status.idle": "2022-01-05T08:05:11.945827Z",
     "shell.execute_reply": "2022-01-05T08:05:11.944969Z",
     "shell.execute_reply.started": "2022-01-05T08:05:11.933951Z"
    },
    "papermill": {
     "duration": 0.349942,
     "end_time": "2022-01-05T20:51:42.885048",
     "exception": false,
     "start_time": "2022-01-05T20:51:42.535106",
     "status": "completed"
    },
    "tags": []
   },
   "source": [
    "#### Remove Comman/Custom Stop Words"
   ]
  },
  {
   "cell_type": "code",
   "execution_count": 24,
   "id": "1c21fbd4",
   "metadata": {
    "execution": {
     "iopub.execute_input": "2022-01-05T20:51:43.586223Z",
     "iopub.status.busy": "2022-01-05T20:51:43.580820Z",
     "iopub.status.idle": "2022-01-05T20:53:26.805696Z",
     "shell.execute_reply": "2022-01-05T20:53:26.806303Z",
     "shell.execute_reply.started": "2022-01-05T11:47:42.871354Z"
    },
    "papermill": {
     "duration": 103.573731,
     "end_time": "2022-01-05T20:53:26.806602",
     "exception": false,
     "start_time": "2022-01-05T20:51:43.232871",
     "status": "completed"
    },
    "tags": []
   },
   "outputs": [
    {
     "data": {
      "text/html": [
       "<div>\n",
       "<style scoped>\n",
       "    .dataframe tbody tr th:only-of-type {\n",
       "        vertical-align: middle;\n",
       "    }\n",
       "\n",
       "    .dataframe tbody tr th {\n",
       "        vertical-align: top;\n",
       "    }\n",
       "\n",
       "    .dataframe thead th {\n",
       "        text-align: right;\n",
       "    }\n",
       "</style>\n",
       "<table border=\"1\" class=\"dataframe\">\n",
       "  <thead>\n",
       "    <tr style=\"text-align: right;\">\n",
       "      <th></th>\n",
       "      <th>cord_uid</th>\n",
       "      <th>title</th>\n",
       "      <th>abstract</th>\n",
       "      <th>body_text</th>\n",
       "      <th>doi</th>\n",
       "      <th>authors</th>\n",
       "      <th>journal</th>\n",
       "      <th>publish_time</th>\n",
       "    </tr>\n",
       "  </thead>\n",
       "  <tbody>\n",
       "    <tr>\n",
       "      <th>3492</th>\n",
       "      <td>y9la83zx</td>\n",
       "      <td>gene knockdowns adult animals ppmos vivomorpho...</td>\n",
       "      <td>antisense molecules readily cross cell membran...</td>\n",
       "      <td>introduction morpholino oligos stericblocking ...</td>\n",
       "      <td>10.3390/molecules14031304</td>\n",
       "      <td>Moulton, Jon D.; Jiang, Shan</td>\n",
       "      <td>Molecules</td>\n",
       "      <td>2009-03-25</td>\n",
       "    </tr>\n",
       "    <tr>\n",
       "      <th>865226</th>\n",
       "      <td>o6uak5b1</td>\n",
       "      <td>modeling binding mechanism remdesivir favilavi...</td>\n",
       "      <td>image text recent efforts repurpose drugs comb...</td>\n",
       "      <td>■ introduction new coronavirus zoonotic origin...</td>\n",
       "      <td>10.1021/acscentsci.0c01242</td>\n",
       "      <td>Byléhn, Fabian; Menéndez, Cintia A.; Perez-Lem...</td>\n",
       "      <td>ACS Cent Sci</td>\n",
       "      <td>2021-01-06</td>\n",
       "    </tr>\n",
       "    <tr>\n",
       "      <th>50793</th>\n",
       "      <td>zpeupbef</td>\n",
       "      <td>pasture monitoring applying normalized differe...</td>\n",
       "      <td>soils increasing pressure intensification use ...</td>\n",
       "      <td>introduction livestock ecuador depends grazing...</td>\n",
       "      <td>10.1007/978-3-030-58817-5_41</td>\n",
       "      <td>Fernando, Garrido; Víctor, Caranqui</td>\n",
       "      <td>Computational Science and Its Applications - I...</td>\n",
       "      <td>2020-08-24</td>\n",
       "    </tr>\n",
       "  </tbody>\n",
       "</table>\n",
       "</div>"
      ],
      "text/plain": [
       "        cord_uid                                              title  \\\n",
       "3492    y9la83zx  gene knockdowns adult animals ppmos vivomorpho...   \n",
       "865226  o6uak5b1  modeling binding mechanism remdesivir favilavi...   \n",
       "50793   zpeupbef  pasture monitoring applying normalized differe...   \n",
       "\n",
       "                                                 abstract  \\\n",
       "3492    antisense molecules readily cross cell membran...   \n",
       "865226  image text recent efforts repurpose drugs comb...   \n",
       "50793   soils increasing pressure intensification use ...   \n",
       "\n",
       "                                                body_text  \\\n",
       "3492    introduction morpholino oligos stericblocking ...   \n",
       "865226  ■ introduction new coronavirus zoonotic origin...   \n",
       "50793   introduction livestock ecuador depends grazing...   \n",
       "\n",
       "                                 doi  \\\n",
       "3492       10.3390/molecules14031304   \n",
       "865226    10.1021/acscentsci.0c01242   \n",
       "50793   10.1007/978-3-030-58817-5_41   \n",
       "\n",
       "                                                  authors  \\\n",
       "3492                         Moulton, Jon D.; Jiang, Shan   \n",
       "865226  Byléhn, Fabian; Menéndez, Cintia A.; Perez-Lem...   \n",
       "50793                 Fernando, Garrido; Víctor, Caranqui   \n",
       "\n",
       "                                                  journal publish_time  \n",
       "3492                                            Molecules   2009-03-25  \n",
       "865226                                       ACS Cent Sci   2021-01-06  \n",
       "50793   Computational Science and Its Applications - I...   2020-08-24  "
      ]
     },
     "execution_count": 24,
     "metadata": {},
     "output_type": "execute_result"
    }
   ],
   "source": [
    "from sklearn.feature_extraction import text\n",
    "import string\n",
    "STOP_WORDS = text.ENGLISH_STOP_WORDS\n",
    "punctuations = string.punctuation\n",
    "StopWords = list(STOP_WORDS)\n",
    "\n",
    "CustomStopWords = [\n",
    "    'doi', 'preprint', 'copyright', 'peer', 'reviewed', 'org', 'https', 'et', 'al', 'author', 'figure', \n",
    "    'rights', 'reserved', 'permission', 'used', 'using', 'biorxiv', 'medrxiv', 'license', 'fig', 'fig.', \n",
    "    'al.', 'Elsevier', 'PMC', 'CZI', 'www'\n",
    "]\n",
    "\n",
    "for word in CustomStopWords:\n",
    "    if word not in StopWords:\n",
    "        StopWords.append(word)\n",
    "        \n",
    "SelectedFeatureEN['title'] = SelectedFeatureEN['title'].apply(lambda x: ' '.join([word for word in x.split() if word not in (StopWords)]))\n",
    "SelectedFeatureEN['abstract'] = SelectedFeatureEN['abstract'].apply(lambda x: ' '.join([word for word in x.split() if word not in (StopWords)]))\n",
    "SelectedFeatureEN['body_text'] = SelectedFeatureEN['body_text'].apply(lambda x: ' '.join([word for word in x.split() if word not in (StopWords)]))\n",
    "\n",
    "\n",
    "SelectedFeatureEN.head(3)"
   ]
  },
  {
   "cell_type": "markdown",
   "id": "b7f47cb5",
   "metadata": {
    "papermill": {
     "duration": 0.347959,
     "end_time": "2022-01-05T20:53:27.504551",
     "exception": false,
     "start_time": "2022-01-05T20:53:27.156592",
     "status": "completed"
    },
    "tags": []
   },
   "source": [
    "#### Saving Trasformed Data as Parquet"
   ]
  },
  {
   "cell_type": "code",
   "execution_count": 25,
   "id": "eb81f353",
   "metadata": {
    "execution": {
     "iopub.execute_input": "2022-01-05T20:53:28.208210Z",
     "iopub.status.busy": "2022-01-05T20:53:28.207487Z",
     "iopub.status.idle": "2022-01-05T20:53:29.813903Z",
     "shell.execute_reply": "2022-01-05T20:53:29.813198Z",
     "shell.execute_reply.started": "2022-01-05T11:49:19.66243Z"
    },
    "papermill": {
     "duration": 1.957961,
     "end_time": "2022-01-05T20:53:29.814046",
     "exception": false,
     "start_time": "2022-01-05T20:53:27.856085",
     "status": "completed"
    },
    "tags": []
   },
   "outputs": [],
   "source": [
    "SelectedFeatureEN.to_parquet(\"./Newdf.parquet\")"
   ]
  },
  {
   "cell_type": "markdown",
   "id": "c6272717",
   "metadata": {
    "execution": {
     "iopub.execute_input": "2022-01-04T22:31:28.514372Z",
     "iopub.status.busy": "2022-01-04T22:31:28.514023Z",
     "iopub.status.idle": "2022-01-04T22:31:30.101535Z",
     "shell.execute_reply": "2022-01-04T22:31:30.100581Z",
     "shell.execute_reply.started": "2022-01-04T22:31:28.514325Z"
    },
    "papermill": {
     "duration": 0.346884,
     "end_time": "2022-01-05T20:53:30.512169",
     "exception": false,
     "start_time": "2022-01-05T20:53:30.165285",
     "status": "completed"
    },
    "tags": []
   },
   "source": [
    "#### Load trasformed Data in spark Data frame in 4 Partitions"
   ]
  },
  {
   "cell_type": "code",
   "execution_count": 26,
   "id": "04c3a591",
   "metadata": {
    "execution": {
     "iopub.execute_input": "2022-01-05T20:53:31.221052Z",
     "iopub.status.busy": "2022-01-05T20:53:31.218286Z",
     "iopub.status.idle": "2022-01-05T20:53:37.349878Z",
     "shell.execute_reply": "2022-01-05T20:53:37.348881Z",
     "shell.execute_reply.started": "2022-01-05T11:49:21.225339Z"
    },
    "papermill": {
     "duration": 6.48553,
     "end_time": "2022-01-05T20:53:37.350038",
     "exception": false,
     "start_time": "2022-01-05T20:53:30.864508",
     "status": "completed"
    },
    "tags": []
   },
   "outputs": [
    {
     "name": "stderr",
     "output_type": "stream",
     "text": [
      "WARNING: An illegal reflective access operation has occurred\n",
      "WARNING: Illegal reflective access by org.apache.spark.unsafe.Platform (file:/opt/conda/lib/python3.7/site-packages/pyspark/jars/spark-unsafe_2.12-3.2.0.jar) to constructor java.nio.DirectByteBuffer(long,int)\n",
      "WARNING: Please consider reporting this to the maintainers of org.apache.spark.unsafe.Platform\n",
      "WARNING: Use --illegal-access=warn to enable warnings of further illegal reflective access operations\n",
      "WARNING: All illegal access operations will be denied in a future release\n",
      "Using Spark's default log4j profile: org/apache/spark/log4j-defaults.properties\n",
      "Setting default log level to \"WARN\".\n",
      "To adjust logging level use sc.setLogLevel(newLevel). For SparkR, use setLogLevel(newLevel).\n",
      "22/01/05 20:53:34 WARN NativeCodeLoader: Unable to load native-hadoop library for your platform... using builtin-java classes where applicable\n"
     ]
    }
   ],
   "source": [
    "from pyspark.sql import SparkSession\n",
    "from pyspark.sql.functions import *\n",
    "from pyspark.sql.types import * \n",
    "from pyspark.ml.feature import StringIndexer ,OneHotEncoder,VectorAssembler\n",
    "from pyspark.ml import Pipeline\n",
    "\n",
    "\n",
    "spark = SparkSession \\\n",
    "    .builder \\\n",
    "    .appName('Covid') \\\n",
    "    .getOrCreate()"
   ]
  },
  {
   "cell_type": "code",
   "execution_count": 27,
   "id": "606eeb0d",
   "metadata": {
    "execution": {
     "iopub.execute_input": "2022-01-05T20:53:38.168734Z",
     "iopub.status.busy": "2022-01-05T20:53:38.167627Z",
     "iopub.status.idle": "2022-01-05T20:53:38.179546Z",
     "shell.execute_reply": "2022-01-05T20:53:38.178566Z",
     "shell.execute_reply.started": "2022-01-05T11:49:30.129434Z"
    },
    "papermill": {
     "duration": 0.470454,
     "end_time": "2022-01-05T20:53:38.179744",
     "exception": false,
     "start_time": "2022-01-05T20:53:37.709290",
     "status": "completed"
    },
    "tags": []
   },
   "outputs": [
    {
     "name": "stdout",
     "output_type": "stream",
     "text": [
      "spark.sql.shuffle.partitions 4\n",
      "spark.sparkContext.defaultParallelism 4\n",
      "spark.sql.files.maxPartitionBytes 134217728b\n",
      "spark.sql.files.maxRecordsPerFile 0\n"
     ]
    }
   ],
   "source": [
    "spark.conf.set(\"spark.sql.shuffle.partitions\", \"4\")\n",
    "print(\"spark.sql.shuffle.partitions\",spark.conf.get('spark.sql.shuffle.partitions'))\n",
    "print(\"spark.sparkContext.defaultParallelism\",spark.sparkContext.defaultParallelism)\n",
    "print(\"spark.sql.files.maxPartitionBytes\" , spark.conf.get('spark.sql.files.maxPartitionBytes'))\n",
    "print(\"spark.sql.files.maxRecordsPerFile\",spark.conf.get('spark.sql.files.maxRecordsPerFile'))"
   ]
  },
  {
   "cell_type": "code",
   "execution_count": 28,
   "id": "02073a9f",
   "metadata": {
    "execution": {
     "iopub.execute_input": "2022-01-05T20:53:38.897166Z",
     "iopub.status.busy": "2022-01-05T20:53:38.896450Z",
     "iopub.status.idle": "2022-01-05T20:53:42.855326Z",
     "shell.execute_reply": "2022-01-05T20:53:42.854537Z",
     "shell.execute_reply.started": "2022-01-05T11:49:30.154843Z"
    },
    "papermill": {
     "duration": 4.31922,
     "end_time": "2022-01-05T20:53:42.855594",
     "exception": false,
     "start_time": "2022-01-05T20:53:38.536374",
     "status": "completed"
    },
    "tags": []
   },
   "outputs": [
    {
     "name": "stderr",
     "output_type": "stream",
     "text": [
      "                                                                                \r"
     ]
    },
    {
     "name": "stdout",
     "output_type": "stream",
     "text": [
      "root\n",
      " |-- cord_uid: string (nullable = true)\n",
      " |-- title: string (nullable = true)\n",
      " |-- abstract: string (nullable = true)\n",
      " |-- body_text: string (nullable = true)\n",
      " |-- doi: string (nullable = true)\n",
      " |-- authors: string (nullable = true)\n",
      " |-- journal: string (nullable = true)\n",
      " |-- publish_time: string (nullable = true)\n",
      " |-- __index_level_0__: long (nullable = true)\n",
      "\n"
     ]
    }
   ],
   "source": [
    "#DataSet =spark.read.parquet(\"../input/dataoutput/Newdf.parquet\").repartition(4)\n",
    "DataSet =spark.read.parquet(\"./Newdf.parquet\").repartition(4)\n",
    "DataSet.printSchema()"
   ]
  },
  {
   "cell_type": "code",
   "execution_count": 29,
   "id": "4a6b669d",
   "metadata": {
    "execution": {
     "iopub.execute_input": "2022-01-05T20:53:43.566534Z",
     "iopub.status.busy": "2022-01-05T20:53:43.565473Z",
     "iopub.status.idle": "2022-01-05T20:53:49.380577Z",
     "shell.execute_reply": "2022-01-05T20:53:49.381461Z",
     "shell.execute_reply.started": "2022-01-05T11:49:36.018868Z"
    },
    "papermill": {
     "duration": 6.173861,
     "end_time": "2022-01-05T20:53:49.381729",
     "exception": false,
     "start_time": "2022-01-05T20:53:43.207868",
     "status": "completed"
    },
    "tags": []
   },
   "outputs": [
    {
     "name": "stderr",
     "output_type": "stream",
     "text": [
      "[Stage 1:============================================>              (3 + 1) / 4]\r"
     ]
    },
    {
     "name": "stdout",
     "output_type": "stream",
     "text": [
      "Number of Partitions 4\n",
      "+-----------+-----+\n",
      "|partitionId|count|\n",
      "+-----------+-----+\n",
      "|          0| 1654|\n",
      "|          1| 1654|\n",
      "|          2| 1654|\n",
      "|          3| 1654|\n",
      "+-----------+-----+\n",
      "\n"
     ]
    },
    {
     "name": "stderr",
     "output_type": "stream",
     "text": [
      "                                                                                \r"
     ]
    }
   ],
   "source": [
    "print(\"Number of Partitions\",DataSet.rdd.getNumPartitions())\n",
    "DataSet.select(spark_partition_id().alias(\"partitionId\")).groupBy(\"partitionId\").count().show()"
   ]
  },
  {
   "cell_type": "markdown",
   "id": "7da49701",
   "metadata": {
    "papermill": {
     "duration": 0.349924,
     "end_time": "2022-01-05T20:53:50.101414",
     "exception": false,
     "start_time": "2022-01-05T20:53:49.751490",
     "status": "completed"
    },
    "tags": []
   },
   "source": [
    "#### Rename the Dataframe Columns"
   ]
  },
  {
   "cell_type": "code",
   "execution_count": 30,
   "id": "9a33fe11",
   "metadata": {
    "execution": {
     "iopub.execute_input": "2022-01-05T20:53:50.805875Z",
     "iopub.status.busy": "2022-01-05T20:53:50.805199Z",
     "iopub.status.idle": "2022-01-05T20:53:53.165856Z",
     "shell.execute_reply": "2022-01-05T20:53:53.163892Z",
     "shell.execute_reply.started": "2022-01-05T11:49:44.204881Z"
    },
    "papermill": {
     "duration": 2.715555,
     "end_time": "2022-01-05T20:53:53.166072",
     "exception": false,
     "start_time": "2022-01-05T20:53:50.450517",
     "status": "completed"
    },
    "tags": []
   },
   "outputs": [
    {
     "name": "stderr",
     "output_type": "stream",
     "text": [
      "                                                                                \r"
     ]
    },
    {
     "data": {
      "text/html": [
       "<div>\n",
       "<style scoped>\n",
       "    .dataframe tbody tr th:only-of-type {\n",
       "        vertical-align: middle;\n",
       "    }\n",
       "\n",
       "    .dataframe tbody tr th {\n",
       "        vertical-align: top;\n",
       "    }\n",
       "\n",
       "    .dataframe thead th {\n",
       "        text-align: right;\n",
       "    }\n",
       "</style>\n",
       "<table border=\"1\" class=\"dataframe\">\n",
       "  <thead>\n",
       "    <tr style=\"text-align: right;\">\n",
       "      <th></th>\n",
       "      <th>Id</th>\n",
       "      <th>Title</th>\n",
       "      <th>Abstract</th>\n",
       "      <th>Body</th>\n",
       "      <th>Doi</th>\n",
       "      <th>Authors</th>\n",
       "      <th>Journal</th>\n",
       "      <th>PublishTime</th>\n",
       "    </tr>\n",
       "  </thead>\n",
       "  <tbody>\n",
       "    <tr>\n",
       "      <th>0</th>\n",
       "      <td>n6wrmlux</td>\n",
       "      <td>privacyprotecting reliable response data disco...</td>\n",
       "      <td>objective utilize individual institutional pri...</td>\n",
       "      <td>introduction covid19 pandemic represents water...</td>\n",
       "      <td>10.1093/jamia/ocab054</td>\n",
       "      <td>Kim, Jihoon; Neumann, Larissa; Paul, Paulina; ...</td>\n",
       "      <td>J Am Med Inform Assoc</td>\n",
       "      <td>2021-05-29</td>\n",
       "    </tr>\n",
       "    <tr>\n",
       "      <th>1</th>\n",
       "      <td>w5pt48zc</td>\n",
       "      <td>covid19 prevention control measures community</td>\n",
       "      <td>january 30 2020 declared covid19 outbreak publ...</td>\n",
       "      <td>introduction late 2019 novel coronavirus desig...</td>\n",
       "      <td>10.3906/sag-2004-146</td>\n",
       "      <td>GÜNER, Rahmet; HASANOĞLU, İmran; AKTAŞ, Firdevs</td>\n",
       "      <td>Turk J Med Sci</td>\n",
       "      <td>2020-04-21</td>\n",
       "    </tr>\n",
       "    <tr>\n",
       "      <th>2</th>\n",
       "      <td>okzn8ked</td>\n",
       "      <td>broadening impact plant science innovative int...</td>\n",
       "      <td>population growth climate change impact food s...</td>\n",
       "      <td>3 28 friesner broad impact current relevant fu...</td>\n",
       "      <td>10.1002/pld3.316</td>\n",
       "      <td>Friesner, Joanna; Colón‐Carmona, Adán; Schnoes...</td>\n",
       "      <td>Plant Direct</td>\n",
       "      <td>2021-04-14</td>\n",
       "    </tr>\n",
       "  </tbody>\n",
       "</table>\n",
       "</div>"
      ],
      "text/plain": [
       "         Id                                              Title  \\\n",
       "0  n6wrmlux  privacyprotecting reliable response data disco...   \n",
       "1  w5pt48zc      covid19 prevention control measures community   \n",
       "2  okzn8ked  broadening impact plant science innovative int...   \n",
       "\n",
       "                                            Abstract  \\\n",
       "0  objective utilize individual institutional pri...   \n",
       "1  january 30 2020 declared covid19 outbreak publ...   \n",
       "2  population growth climate change impact food s...   \n",
       "\n",
       "                                                Body                    Doi  \\\n",
       "0  introduction covid19 pandemic represents water...  10.1093/jamia/ocab054   \n",
       "1  introduction late 2019 novel coronavirus desig...   10.3906/sag-2004-146   \n",
       "2  3 28 friesner broad impact current relevant fu...       10.1002/pld3.316   \n",
       "\n",
       "                                             Authors                Journal  \\\n",
       "0  Kim, Jihoon; Neumann, Larissa; Paul, Paulina; ...  J Am Med Inform Assoc   \n",
       "1    GÜNER, Rahmet; HASANOĞLU, İmran; AKTAŞ, Firdevs         Turk J Med Sci   \n",
       "2  Friesner, Joanna; Colón‐Carmona, Adán; Schnoes...           Plant Direct   \n",
       "\n",
       "  PublishTime  \n",
       "0  2021-05-29  \n",
       "1  2020-04-21  \n",
       "2  2021-04-14  "
      ]
     },
     "execution_count": 30,
     "metadata": {},
     "output_type": "execute_result"
    }
   ],
   "source": [
    "DataSet = DataSet.select('cord_uid','title','abstract','body_text', 'doi', 'authors', 'journal', 'publish_time')\\\n",
    "                .toDF(\"Id\",\"Title\",\"Abstract\",\"Body\",'Doi', 'Authors', 'Journal', 'PublishTime')\n",
    "\n",
    "#'doi', 'authors', 'journal', 'publish_time'\n",
    "DataSet.limit(3).toPandas()"
   ]
  },
  {
   "cell_type": "markdown",
   "id": "b292f08b",
   "metadata": {
    "papermill": {
     "duration": 0.354735,
     "end_time": "2022-01-05T20:53:53.891029",
     "exception": false,
     "start_time": "2022-01-05T20:53:53.536294",
     "status": "completed"
    },
    "tags": []
   },
   "source": [
    "#### Check the Null values"
   ]
  },
  {
   "cell_type": "code",
   "execution_count": 31,
   "id": "caa7b3b0",
   "metadata": {
    "execution": {
     "iopub.execute_input": "2022-01-05T20:53:54.600198Z",
     "iopub.status.busy": "2022-01-05T20:53:54.599214Z",
     "iopub.status.idle": "2022-01-05T20:53:56.850978Z",
     "shell.execute_reply": "2022-01-05T20:53:56.849291Z",
     "shell.execute_reply.started": "2022-01-05T11:49:47.302829Z"
    },
    "papermill": {
     "duration": 2.60879,
     "end_time": "2022-01-05T20:53:56.851216",
     "exception": false,
     "start_time": "2022-01-05T20:53:54.242426",
     "status": "completed"
    },
    "tags": []
   },
   "outputs": [
    {
     "name": "stdout",
     "output_type": "stream",
     "text": [
      "The Count of Null in Column Id  0\n",
      "The Count of Null in Column Title  0\n",
      "The Count of Null in Column Abstract  0\n",
      "The Count of Null in Column Body  0\n",
      "The Count of Null in Column Doi  0\n",
      "The Count of Null in Column Authors  0\n",
      "The Count of Null in Column Journal  0\n",
      "The Count of Null in Column PublishTime  0\n"
     ]
    }
   ],
   "source": [
    "for thisCol in DataSet.columns :\n",
    "    print('The Count of Null in Column %s ' %thisCol , DataSet.where(col(thisCol).isNull()).count() )"
   ]
  },
  {
   "cell_type": "markdown",
   "id": "697abf08",
   "metadata": {
    "papermill": {
     "duration": 0.350782,
     "end_time": "2022-01-05T20:53:57.720409",
     "exception": false,
     "start_time": "2022-01-05T20:53:57.369627",
     "status": "completed"
    },
    "tags": []
   },
   "source": [
    "# Vectorization"
   ]
  },
  {
   "cell_type": "markdown",
   "id": "4b0895df",
   "metadata": {
    "papermill": {
     "duration": 0.352566,
     "end_time": "2022-01-05T20:53:58.468695",
     "exception": false,
     "start_time": "2022-01-05T20:53:58.116129",
     "status": "completed"
    },
    "tags": []
   },
   "source": [
    "#### Transform texts to Vector"
   ]
  },
  {
   "cell_type": "code",
   "execution_count": 32,
   "id": "6a84b1db",
   "metadata": {
    "execution": {
     "iopub.execute_input": "2022-01-05T20:53:59.186370Z",
     "iopub.status.busy": "2022-01-05T20:53:59.185169Z",
     "iopub.status.idle": "2022-01-05T20:54:11.042942Z",
     "shell.execute_reply": "2022-01-05T20:54:11.042215Z",
     "shell.execute_reply.started": "2022-01-05T11:49:50.132822Z"
    },
    "papermill": {
     "duration": 12.221887,
     "end_time": "2022-01-05T20:54:11.043101",
     "exception": false,
     "start_time": "2022-01-05T20:53:58.821214",
     "status": "completed"
    },
    "tags": []
   },
   "outputs": [
    {
     "name": "stderr",
     "output_type": "stream",
     "text": [
      "                                                                                \r"
     ]
    }
   ],
   "source": [
    "'''\n",
    "\n",
    "TF: HashingTF is a Transformer which takes sets of terms and converts those sets into fixed-length feature vectors. \n",
    "In text processing, a “set of terms” might be a bag of words. The algorithm combines Term Frequency (TF) counts with the hashing \n",
    "trick for dimensionality reduction.\n",
    "\n",
    "IDF: IDF is an Estimator which fits on a dataset and produces an IDFModel. The IDFModel takes feature vectors (generally \n",
    "created from HashingTF) and scales each column. Intuitively, it down-weights columns which appear frequently in a corpus.\n",
    "\n",
    "Please refer to the MLlib user guide on TF-IDF for more details on Term Frequency and Inverse Document Frequency. For API \n",
    "details, refer to the HashingTF API docs and the IDF API docs.\n",
    "\n",
    "In the following code segment, we start with a set of sentences. We split each sentence into words using Tokenizer. For each \n",
    "sentence (bag of words), we use HashingTF to hash the sentence into a feature vector. We use IDF to rescale the feature vectors; \n",
    "this generally improves performance when using text as features. Our feature vectors could then be passed to a learning algorithm.\n",
    "'''\n",
    "\n",
    "\n",
    "from pyspark.ml.feature import HashingTF, IDF, Tokenizer\n",
    "rescaledData=DataSet\n",
    "for thisCol in rescaledData.select('Title','Abstract','Body').columns :\n",
    "    OutCol =thisCol+'Vector'\n",
    "    tokenizer = Tokenizer(inputCol=thisCol , outputCol=\"words\")\n",
    "    wordsData = tokenizer.transform(rescaledData)\n",
    "\n",
    "    hashingTF = HashingTF(inputCol=\"words\", outputCol=\"rawFeatures\", numFeatures=20)\n",
    "    featurizedData = hashingTF.transform(wordsData)\n",
    "\n",
    "    idf = IDF(inputCol=\"rawFeatures\", outputCol=OutCol)\n",
    "    idfModel = idf.fit(featurizedData)\n",
    "    rescaledData = idfModel.transform(featurizedData)\n",
    "\n",
    "    rescaledData=rescaledData.drop('words','rawFeatures')  \n",
    "    "
   ]
  },
  {
   "cell_type": "markdown",
   "id": "146f5ba0",
   "metadata": {
    "papermill": {
     "duration": 0.355191,
     "end_time": "2022-01-05T20:54:11.756174",
     "exception": false,
     "start_time": "2022-01-05T20:54:11.400983",
     "status": "completed"
    },
    "tags": []
   },
   "source": [
    "#### Divide Date column into three column Day ,Month , Year"
   ]
  },
  {
   "cell_type": "code",
   "execution_count": 33,
   "id": "85132d44",
   "metadata": {
    "execution": {
     "iopub.execute_input": "2022-01-05T20:54:12.477766Z",
     "iopub.status.busy": "2022-01-05T20:54:12.476680Z",
     "iopub.status.idle": "2022-01-05T20:54:14.669883Z",
     "shell.execute_reply": "2022-01-05T20:54:14.670623Z",
     "shell.execute_reply.started": "2022-01-05T11:50:04.391286Z"
    },
    "papermill": {
     "duration": 2.552964,
     "end_time": "2022-01-05T20:54:14.670890",
     "exception": false,
     "start_time": "2022-01-05T20:54:12.117926",
     "status": "completed"
    },
    "tags": []
   },
   "outputs": [
    {
     "name": "stderr",
     "output_type": "stream",
     "text": [
      "                                                                                \r"
     ]
    },
    {
     "data": {
      "text/html": [
       "<div>\n",
       "<style scoped>\n",
       "    .dataframe tbody tr th:only-of-type {\n",
       "        vertical-align: middle;\n",
       "    }\n",
       "\n",
       "    .dataframe tbody tr th {\n",
       "        vertical-align: top;\n",
       "    }\n",
       "\n",
       "    .dataframe thead th {\n",
       "        text-align: right;\n",
       "    }\n",
       "</style>\n",
       "<table border=\"1\" class=\"dataframe\">\n",
       "  <thead>\n",
       "    <tr style=\"text-align: right;\">\n",
       "      <th></th>\n",
       "      <th>Id</th>\n",
       "      <th>Title</th>\n",
       "      <th>Abstract</th>\n",
       "      <th>Body</th>\n",
       "      <th>Doi</th>\n",
       "      <th>Authors</th>\n",
       "      <th>Journal</th>\n",
       "      <th>PublishTime</th>\n",
       "      <th>TitleVector</th>\n",
       "      <th>AbstractVector</th>\n",
       "      <th>BodyVector</th>\n",
       "      <th>Day_PublishTime</th>\n",
       "      <th>Month_PublishTime</th>\n",
       "      <th>Year_PublishTime</th>\n",
       "    </tr>\n",
       "  </thead>\n",
       "  <tbody>\n",
       "    <tr>\n",
       "      <th>0</th>\n",
       "      <td>n6wrmlux</td>\n",
       "      <td>privacyprotecting reliable response data disco...</td>\n",
       "      <td>objective utilize individual institutional pri...</td>\n",
       "      <td>introduction covid19 pandemic represents water...</td>\n",
       "      <td>10.1093/jamia/ocab054</td>\n",
       "      <td>Kim, Jihoon; Neumann, Larissa; Paul, Paulina; ...</td>\n",
       "      <td>J Am Med Inform Assoc</td>\n",
       "      <td>2021-05-29</td>\n",
       "      <td>(0.0, 0.0, 0.0, 0.9030793101704355, 0.0, 1.063...</td>\n",
       "      <td>(0.27550762596266126, 0.29601118385461833, 0.2...</td>\n",
       "      <td>(0.05396417596824679, 0.07332376190104435, 0.0...</td>\n",
       "      <td>29</td>\n",
       "      <td>5</td>\n",
       "      <td>2021</td>\n",
       "    </tr>\n",
       "    <tr>\n",
       "      <th>1</th>\n",
       "      <td>w5pt48zc</td>\n",
       "      <td>covid19 prevention control measures community</td>\n",
       "      <td>january 30 2020 declared covid19 outbreak publ...</td>\n",
       "      <td>introduction late 2019 novel coronavirus desig...</td>\n",
       "      <td>10.3906/sag-2004-146</td>\n",
       "      <td>GÜNER, Rahmet; HASANOĞLU, İmran; AKTAŞ, Firdevs</td>\n",
       "      <td>Turk J Med Sci</td>\n",
       "      <td>2020-04-21</td>\n",
       "      <td>(0.0, 0.9705552758537662, 0.0, 0.0, 0.0, 0.0, ...</td>\n",
       "      <td>(0.0, 0.08880335515638549, 0.14500552787751997...</td>\n",
       "      <td>(0.018139218812856062, 0.04233124398410808, 0....</td>\n",
       "      <td>21</td>\n",
       "      <td>4</td>\n",
       "      <td>2020</td>\n",
       "    </tr>\n",
       "    <tr>\n",
       "      <th>2</th>\n",
       "      <td>okzn8ked</td>\n",
       "      <td>broadening impact plant science innovative int...</td>\n",
       "      <td>population growth climate change impact food s...</td>\n",
       "      <td>3 28 friesner broad impact current relevant fu...</td>\n",
       "      <td>10.1002/pld3.316</td>\n",
       "      <td>Friesner, Joanna; Colón‐Carmona, Adán; Schnoes...</td>\n",
       "      <td>Plant Direct</td>\n",
       "      <td>2021-04-14</td>\n",
       "      <td>(0.0, 0.0, 0.0, 1.806158620340871, 1.054127673...</td>\n",
       "      <td>(0.20663071947199596, 0.26641006546915647, 0.0...</td>\n",
       "      <td>(0.15735772320152636, 0.22148311584542263, 0.1...</td>\n",
       "      <td>14</td>\n",
       "      <td>4</td>\n",
       "      <td>2021</td>\n",
       "    </tr>\n",
       "  </tbody>\n",
       "</table>\n",
       "</div>"
      ],
      "text/plain": [
       "         Id                                              Title  \\\n",
       "0  n6wrmlux  privacyprotecting reliable response data disco...   \n",
       "1  w5pt48zc      covid19 prevention control measures community   \n",
       "2  okzn8ked  broadening impact plant science innovative int...   \n",
       "\n",
       "                                            Abstract  \\\n",
       "0  objective utilize individual institutional pri...   \n",
       "1  january 30 2020 declared covid19 outbreak publ...   \n",
       "2  population growth climate change impact food s...   \n",
       "\n",
       "                                                Body                    Doi  \\\n",
       "0  introduction covid19 pandemic represents water...  10.1093/jamia/ocab054   \n",
       "1  introduction late 2019 novel coronavirus desig...   10.3906/sag-2004-146   \n",
       "2  3 28 friesner broad impact current relevant fu...       10.1002/pld3.316   \n",
       "\n",
       "                                             Authors                Journal  \\\n",
       "0  Kim, Jihoon; Neumann, Larissa; Paul, Paulina; ...  J Am Med Inform Assoc   \n",
       "1    GÜNER, Rahmet; HASANOĞLU, İmran; AKTAŞ, Firdevs         Turk J Med Sci   \n",
       "2  Friesner, Joanna; Colón‐Carmona, Adán; Schnoes...           Plant Direct   \n",
       "\n",
       "  PublishTime                                        TitleVector  \\\n",
       "0  2021-05-29  (0.0, 0.0, 0.0, 0.9030793101704355, 0.0, 1.063...   \n",
       "1  2020-04-21  (0.0, 0.9705552758537662, 0.0, 0.0, 0.0, 0.0, ...   \n",
       "2  2021-04-14  (0.0, 0.0, 0.0, 1.806158620340871, 1.054127673...   \n",
       "\n",
       "                                      AbstractVector  \\\n",
       "0  (0.27550762596266126, 0.29601118385461833, 0.2...   \n",
       "1  (0.0, 0.08880335515638549, 0.14500552787751997...   \n",
       "2  (0.20663071947199596, 0.26641006546915647, 0.0...   \n",
       "\n",
       "                                          BodyVector  Day_PublishTime  \\\n",
       "0  (0.05396417596824679, 0.07332376190104435, 0.0...               29   \n",
       "1  (0.018139218812856062, 0.04233124398410808, 0....               21   \n",
       "2  (0.15735772320152636, 0.22148311584542263, 0.1...               14   \n",
       "\n",
       "   Month_PublishTime  Year_PublishTime  \n",
       "0                  5              2021  \n",
       "1                  4              2020  \n",
       "2                  4              2021  "
      ]
     },
     "execution_count": 33,
     "metadata": {},
     "output_type": "execute_result"
    }
   ],
   "source": [
    "rescaledData=rescaledData.withColumn('Day_PublishTime' ,  substring('PublishTime', 9,2).cast(IntegerType()))\\\n",
    "                        .withColumn('Month_PublishTime' ,  substring('PublishTime', 6,2).cast(IntegerType()))\\\n",
    "                        .withColumn('Year_PublishTime' ,  substring('PublishTime', 0,4).cast(IntegerType()))\n",
    "    \n",
    "rescaledData.limit(3).toPandas()"
   ]
  },
  {
   "cell_type": "markdown",
   "id": "0c0031f2",
   "metadata": {
    "papermill": {
     "duration": 0.356828,
     "end_time": "2022-01-05T20:54:15.446534",
     "exception": false,
     "start_time": "2022-01-05T20:54:15.089706",
     "status": "completed"
    },
    "tags": []
   },
   "source": [
    "#### Transform string columns to index"
   ]
  },
  {
   "cell_type": "code",
   "execution_count": 34,
   "id": "846af75a",
   "metadata": {
    "execution": {
     "iopub.execute_input": "2022-01-05T20:54:16.166484Z",
     "iopub.status.busy": "2022-01-05T20:54:16.165470Z",
     "iopub.status.idle": "2022-01-05T20:54:21.440056Z",
     "shell.execute_reply": "2022-01-05T20:54:21.440770Z",
     "shell.execute_reply.started": "2022-01-05T11:50:07.082998Z"
    },
    "papermill": {
     "duration": 5.638451,
     "end_time": "2022-01-05T20:54:21.440953",
     "exception": false,
     "start_time": "2022-01-05T20:54:15.802502",
     "status": "completed"
    },
    "tags": []
   },
   "outputs": [
    {
     "name": "stderr",
     "output_type": "stream",
     "text": [
      "22/01/05 20:54:18 WARN DAGScheduler: Broadcasting large task binary with size 1301.7 KiB\n",
      "22/01/05 20:54:18 WARN DAGScheduler: Broadcasting large task binary with size 1306.4 KiB\n",
      "22/01/05 20:54:18 WARN DAGScheduler: Broadcasting large task binary with size 1308.9 KiB\n",
      "22/01/05 20:54:21 WARN DAGScheduler: Broadcasting large task binary with size 1555.5 KiB\n",
      "                                                                                \r"
     ]
    },
    {
     "data": {
      "text/html": [
       "<div>\n",
       "<style scoped>\n",
       "    .dataframe tbody tr th:only-of-type {\n",
       "        vertical-align: middle;\n",
       "    }\n",
       "\n",
       "    .dataframe tbody tr th {\n",
       "        vertical-align: top;\n",
       "    }\n",
       "\n",
       "    .dataframe thead th {\n",
       "        text-align: right;\n",
       "    }\n",
       "</style>\n",
       "<table border=\"1\" class=\"dataframe\">\n",
       "  <thead>\n",
       "    <tr style=\"text-align: right;\">\n",
       "      <th></th>\n",
       "      <th>Id</th>\n",
       "      <th>Title</th>\n",
       "      <th>Abstract</th>\n",
       "      <th>Body</th>\n",
       "      <th>Doi</th>\n",
       "      <th>Authors</th>\n",
       "      <th>Journal</th>\n",
       "      <th>PublishTime</th>\n",
       "      <th>TitleVector</th>\n",
       "      <th>AbstractVector</th>\n",
       "      <th>BodyVector</th>\n",
       "      <th>Day_PublishTime</th>\n",
       "      <th>Month_PublishTime</th>\n",
       "      <th>Year_PublishTime</th>\n",
       "      <th>DoiIndex</th>\n",
       "      <th>AuthorsIndex</th>\n",
       "      <th>JournalIndex</th>\n",
       "    </tr>\n",
       "  </thead>\n",
       "  <tbody>\n",
       "    <tr>\n",
       "      <th>0</th>\n",
       "      <td>n6wrmlux</td>\n",
       "      <td>privacyprotecting reliable response data disco...</td>\n",
       "      <td>objective utilize individual institutional pri...</td>\n",
       "      <td>introduction covid19 pandemic represents water...</td>\n",
       "      <td>10.1093/jamia/ocab054</td>\n",
       "      <td>Kim, Jihoon; Neumann, Larissa; Paul, Paulina; ...</td>\n",
       "      <td>J Am Med Inform Assoc</td>\n",
       "      <td>2021-05-29</td>\n",
       "      <td>(0.0, 0.0, 0.0, 0.9030793101704355, 0.0, 1.063...</td>\n",
       "      <td>(0.27550762596266126, 0.29601118385461833, 0.2...</td>\n",
       "      <td>(0.05396417596824679, 0.07332376190104435, 0.0...</td>\n",
       "      <td>29</td>\n",
       "      <td>5</td>\n",
       "      <td>2021</td>\n",
       "      <td>3234.0</td>\n",
       "      <td>2849.0</td>\n",
       "      <td>768.0</td>\n",
       "    </tr>\n",
       "    <tr>\n",
       "      <th>1</th>\n",
       "      <td>w5pt48zc</td>\n",
       "      <td>covid19 prevention control measures community</td>\n",
       "      <td>january 30 2020 declared covid19 outbreak publ...</td>\n",
       "      <td>introduction late 2019 novel coronavirus desig...</td>\n",
       "      <td>10.3906/sag-2004-146</td>\n",
       "      <td>GÜNER, Rahmet; HASANOĞLU, İmran; AKTAŞ, Firdevs</td>\n",
       "      <td>Turk J Med Sci</td>\n",
       "      <td>2020-04-21</td>\n",
       "      <td>(0.0, 0.9705552758537662, 0.0, 0.0, 0.0, 0.0, ...</td>\n",
       "      <td>(0.0, 0.08880335515638549, 0.14500552787751997...</td>\n",
       "      <td>(0.018139218812856062, 0.04233124398410808, 0....</td>\n",
       "      <td>21</td>\n",
       "      <td>4</td>\n",
       "      <td>2020</td>\n",
       "      <td>6405.0</td>\n",
       "      <td>2095.0</td>\n",
       "      <td>517.0</td>\n",
       "    </tr>\n",
       "    <tr>\n",
       "      <th>2</th>\n",
       "      <td>okzn8ked</td>\n",
       "      <td>broadening impact plant science innovative int...</td>\n",
       "      <td>population growth climate change impact food s...</td>\n",
       "      <td>3 28 friesner broad impact current relevant fu...</td>\n",
       "      <td>10.1002/pld3.316</td>\n",
       "      <td>Friesner, Joanna; Colón‐Carmona, Adán; Schnoes...</td>\n",
       "      <td>Plant Direct</td>\n",
       "      <td>2021-04-14</td>\n",
       "      <td>(0.0, 0.0, 0.0, 1.806158620340871, 1.054127673...</td>\n",
       "      <td>(0.20663071947199596, 0.26641006546915647, 0.0...</td>\n",
       "      <td>(0.15735772320152636, 0.22148311584542263, 0.1...</td>\n",
       "      <td>14</td>\n",
       "      <td>4</td>\n",
       "      <td>2021</td>\n",
       "      <td>155.0</td>\n",
       "      <td>1740.0</td>\n",
       "      <td>2282.0</td>\n",
       "    </tr>\n",
       "  </tbody>\n",
       "</table>\n",
       "</div>"
      ],
      "text/plain": [
       "         Id                                              Title  \\\n",
       "0  n6wrmlux  privacyprotecting reliable response data disco...   \n",
       "1  w5pt48zc      covid19 prevention control measures community   \n",
       "2  okzn8ked  broadening impact plant science innovative int...   \n",
       "\n",
       "                                            Abstract  \\\n",
       "0  objective utilize individual institutional pri...   \n",
       "1  january 30 2020 declared covid19 outbreak publ...   \n",
       "2  population growth climate change impact food s...   \n",
       "\n",
       "                                                Body                    Doi  \\\n",
       "0  introduction covid19 pandemic represents water...  10.1093/jamia/ocab054   \n",
       "1  introduction late 2019 novel coronavirus desig...   10.3906/sag-2004-146   \n",
       "2  3 28 friesner broad impact current relevant fu...       10.1002/pld3.316   \n",
       "\n",
       "                                             Authors                Journal  \\\n",
       "0  Kim, Jihoon; Neumann, Larissa; Paul, Paulina; ...  J Am Med Inform Assoc   \n",
       "1    GÜNER, Rahmet; HASANOĞLU, İmran; AKTAŞ, Firdevs         Turk J Med Sci   \n",
       "2  Friesner, Joanna; Colón‐Carmona, Adán; Schnoes...           Plant Direct   \n",
       "\n",
       "  PublishTime                                        TitleVector  \\\n",
       "0  2021-05-29  (0.0, 0.0, 0.0, 0.9030793101704355, 0.0, 1.063...   \n",
       "1  2020-04-21  (0.0, 0.9705552758537662, 0.0, 0.0, 0.0, 0.0, ...   \n",
       "2  2021-04-14  (0.0, 0.0, 0.0, 1.806158620340871, 1.054127673...   \n",
       "\n",
       "                                      AbstractVector  \\\n",
       "0  (0.27550762596266126, 0.29601118385461833, 0.2...   \n",
       "1  (0.0, 0.08880335515638549, 0.14500552787751997...   \n",
       "2  (0.20663071947199596, 0.26641006546915647, 0.0...   \n",
       "\n",
       "                                          BodyVector  Day_PublishTime  \\\n",
       "0  (0.05396417596824679, 0.07332376190104435, 0.0...               29   \n",
       "1  (0.018139218812856062, 0.04233124398410808, 0....               21   \n",
       "2  (0.15735772320152636, 0.22148311584542263, 0.1...               14   \n",
       "\n",
       "   Month_PublishTime  Year_PublishTime  DoiIndex  AuthorsIndex  JournalIndex  \n",
       "0                  5              2021    3234.0        2849.0         768.0  \n",
       "1                  4              2020    6405.0        2095.0         517.0  \n",
       "2                  4              2021     155.0        1740.0        2282.0  "
      ]
     },
     "execution_count": 34,
     "metadata": {},
     "output_type": "execute_result"
    }
   ],
   "source": [
    "for thisCol in rescaledData.select('Doi','Authors','Journal').columns :\n",
    "    rescaledData = StringIndexer(\n",
    "    inputCol=thisCol, \n",
    "    outputCol=thisCol+'Index', \n",
    "    handleInvalid='skip').fit(rescaledData).transform(rescaledData)\n",
    "    \n",
    "rescaledData.limit(3).toPandas()"
   ]
  },
  {
   "cell_type": "markdown",
   "id": "42200070",
   "metadata": {
    "papermill": {
     "duration": 0.363013,
     "end_time": "2022-01-05T20:54:22.161493",
     "exception": false,
     "start_time": "2022-01-05T20:54:21.798480",
     "status": "completed"
    },
    "tags": []
   },
   "source": [
    "#### Select Features that will be part of model"
   ]
  },
  {
   "cell_type": "code",
   "execution_count": 35,
   "id": "8b5ee672",
   "metadata": {
    "execution": {
     "iopub.execute_input": "2022-01-05T20:54:22.881950Z",
     "iopub.status.busy": "2022-01-05T20:54:22.881065Z",
     "iopub.status.idle": "2022-01-05T20:54:22.883687Z",
     "shell.execute_reply": "2022-01-05T20:54:22.883159Z",
     "shell.execute_reply.started": "2022-01-05T11:50:13.386591Z"
    },
    "papermill": {
     "duration": 0.366505,
     "end_time": "2022-01-05T20:54:22.883842",
     "exception": false,
     "start_time": "2022-01-05T20:54:22.517337",
     "status": "completed"
    },
    "tags": []
   },
   "outputs": [],
   "source": [
    "requiredFeatures = ['TitleVector',\n",
    "                    'AbstractVector',\n",
    "                    'BodyVector',\n",
    "                    'Day_PublishTime',\n",
    "                    'Month_PublishTime',\n",
    "                    'Year_PublishTime',\n",
    "                    'DoiIndex',\n",
    "                    'AuthorsIndex',\n",
    "                    'JournalIndex']"
   ]
  },
  {
   "cell_type": "markdown",
   "id": "52b8eab8",
   "metadata": {
    "papermill": {
     "duration": 0.357749,
     "end_time": "2022-01-05T20:54:23.601206",
     "exception": false,
     "start_time": "2022-01-05T20:54:23.243457",
     "status": "completed"
    },
    "tags": []
   },
   "source": [
    "#### Create a VectorAssembler that transform the combines a given list of columns into a single vector column"
   ]
  },
  {
   "cell_type": "code",
   "execution_count": 36,
   "id": "0773e8f3",
   "metadata": {
    "execution": {
     "iopub.execute_input": "2022-01-05T20:54:24.333157Z",
     "iopub.status.busy": "2022-01-05T20:54:24.332153Z",
     "iopub.status.idle": "2022-01-05T20:54:24.345626Z",
     "shell.execute_reply": "2022-01-05T20:54:24.346384Z",
     "shell.execute_reply.started": "2022-01-05T11:50:13.394679Z"
    },
    "papermill": {
     "duration": 0.386164,
     "end_time": "2022-01-05T20:54:24.346566",
     "exception": false,
     "start_time": "2022-01-05T20:54:23.960402",
     "status": "completed"
    },
    "tags": []
   },
   "outputs": [],
   "source": [
    "from pyspark.ml.feature import VectorAssembler\n",
    "assembler = VectorAssembler(inputCols=requiredFeatures, outputCol='features', handleInvalid = \"skip\")"
   ]
  },
  {
   "cell_type": "markdown",
   "id": "9c20cec3",
   "metadata": {
    "papermill": {
     "duration": 0.364387,
     "end_time": "2022-01-05T20:54:25.069675",
     "exception": false,
     "start_time": "2022-01-05T20:54:24.705288",
     "status": "completed"
    },
    "tags": []
   },
   "source": [
    "#### Transorm our dataset for use in our clustering algorithm"
   ]
  },
  {
   "cell_type": "code",
   "execution_count": 37,
   "id": "8f59e83d",
   "metadata": {
    "execution": {
     "iopub.execute_input": "2022-01-05T20:54:25.805406Z",
     "iopub.status.busy": "2022-01-05T20:54:25.804691Z",
     "iopub.status.idle": "2022-01-05T20:58:27.975151Z",
     "shell.execute_reply": "2022-01-05T20:58:27.976045Z",
     "shell.execute_reply.started": "2022-01-05T11:50:13.429393Z"
    },
    "papermill": {
     "duration": 242.545259,
     "end_time": "2022-01-05T20:58:27.976310",
     "exception": false,
     "start_time": "2022-01-05T20:54:25.431051",
     "status": "completed"
    },
    "tags": []
   },
   "outputs": [
    {
     "name": "stderr",
     "output_type": "stream",
     "text": [
      "22/01/05 20:54:27 WARN DAGScheduler: Broadcasting large task binary with size 1584.9 KiB\n",
      "                                                                                \r"
     ]
    },
    {
     "data": {
      "text/html": [
       "<div>\n",
       "<style scoped>\n",
       "    .dataframe tbody tr th:only-of-type {\n",
       "        vertical-align: middle;\n",
       "    }\n",
       "\n",
       "    .dataframe tbody tr th {\n",
       "        vertical-align: top;\n",
       "    }\n",
       "\n",
       "    .dataframe thead th {\n",
       "        text-align: right;\n",
       "    }\n",
       "</style>\n",
       "<table border=\"1\" class=\"dataframe\">\n",
       "  <thead>\n",
       "    <tr style=\"text-align: right;\">\n",
       "      <th></th>\n",
       "      <th>Id</th>\n",
       "      <th>Title</th>\n",
       "      <th>Abstract</th>\n",
       "      <th>Body</th>\n",
       "      <th>Doi</th>\n",
       "      <th>Authors</th>\n",
       "      <th>Journal</th>\n",
       "      <th>PublishTime</th>\n",
       "      <th>TitleVector</th>\n",
       "      <th>AbstractVector</th>\n",
       "      <th>BodyVector</th>\n",
       "      <th>Day_PublishTime</th>\n",
       "      <th>Month_PublishTime</th>\n",
       "      <th>Year_PublishTime</th>\n",
       "      <th>DoiIndex</th>\n",
       "      <th>AuthorsIndex</th>\n",
       "      <th>JournalIndex</th>\n",
       "      <th>features</th>\n",
       "    </tr>\n",
       "  </thead>\n",
       "  <tbody>\n",
       "    <tr>\n",
       "      <th>0</th>\n",
       "      <td>n6wrmlux</td>\n",
       "      <td>privacyprotecting reliable response data disco...</td>\n",
       "      <td>objective utilize individual institutional pri...</td>\n",
       "      <td>introduction covid19 pandemic represents water...</td>\n",
       "      <td>10.1093/jamia/ocab054</td>\n",
       "      <td>Kim, Jihoon; Neumann, Larissa; Paul, Paulina; ...</td>\n",
       "      <td>J Am Med Inform Assoc</td>\n",
       "      <td>2021-05-29</td>\n",
       "      <td>(0.0, 0.0, 0.0, 0.9030793101704355, 0.0, 1.063...</td>\n",
       "      <td>(0.27550762596266126, 0.29601118385461833, 0.2...</td>\n",
       "      <td>(0.05396417596824679, 0.07332376190104435, 0.0...</td>\n",
       "      <td>29</td>\n",
       "      <td>5</td>\n",
       "      <td>2021</td>\n",
       "      <td>3234.0</td>\n",
       "      <td>2849.0</td>\n",
       "      <td>768.0</td>\n",
       "      <td>[0.0, 0.0, 0.0, 0.9030793101704355, 0.0, 1.063...</td>\n",
       "    </tr>\n",
       "    <tr>\n",
       "      <th>1</th>\n",
       "      <td>w5pt48zc</td>\n",
       "      <td>covid19 prevention control measures community</td>\n",
       "      <td>january 30 2020 declared covid19 outbreak publ...</td>\n",
       "      <td>introduction late 2019 novel coronavirus desig...</td>\n",
       "      <td>10.3906/sag-2004-146</td>\n",
       "      <td>GÜNER, Rahmet; HASANOĞLU, İmran; AKTAŞ, Firdevs</td>\n",
       "      <td>Turk J Med Sci</td>\n",
       "      <td>2020-04-21</td>\n",
       "      <td>(0.0, 0.9705552758537662, 0.0, 0.0, 0.0, 0.0, ...</td>\n",
       "      <td>(0.0, 0.08880335515638549, 0.14500552787751997...</td>\n",
       "      <td>(0.018139218812856062, 0.04233124398410808, 0....</td>\n",
       "      <td>21</td>\n",
       "      <td>4</td>\n",
       "      <td>2020</td>\n",
       "      <td>6405.0</td>\n",
       "      <td>2095.0</td>\n",
       "      <td>517.0</td>\n",
       "      <td>[0.0, 0.9705552758537662, 0.0, 0.0, 0.0, 0.0, ...</td>\n",
       "    </tr>\n",
       "    <tr>\n",
       "      <th>2</th>\n",
       "      <td>okzn8ked</td>\n",
       "      <td>broadening impact plant science innovative int...</td>\n",
       "      <td>population growth climate change impact food s...</td>\n",
       "      <td>3 28 friesner broad impact current relevant fu...</td>\n",
       "      <td>10.1002/pld3.316</td>\n",
       "      <td>Friesner, Joanna; Colón‐Carmona, Adán; Schnoes...</td>\n",
       "      <td>Plant Direct</td>\n",
       "      <td>2021-04-14</td>\n",
       "      <td>(0.0, 0.0, 0.0, 1.806158620340871, 1.054127673...</td>\n",
       "      <td>(0.20663071947199596, 0.26641006546915647, 0.0...</td>\n",
       "      <td>(0.15735772320152636, 0.22148311584542263, 0.1...</td>\n",
       "      <td>14</td>\n",
       "      <td>4</td>\n",
       "      <td>2021</td>\n",
       "      <td>155.0</td>\n",
       "      <td>1740.0</td>\n",
       "      <td>2282.0</td>\n",
       "      <td>[0.0, 0.0, 0.0, 1.806158620340871, 1.054127673...</td>\n",
       "    </tr>\n",
       "  </tbody>\n",
       "</table>\n",
       "</div>"
      ],
      "text/plain": [
       "         Id                                              Title  \\\n",
       "0  n6wrmlux  privacyprotecting reliable response data disco...   \n",
       "1  w5pt48zc      covid19 prevention control measures community   \n",
       "2  okzn8ked  broadening impact plant science innovative int...   \n",
       "\n",
       "                                            Abstract  \\\n",
       "0  objective utilize individual institutional pri...   \n",
       "1  january 30 2020 declared covid19 outbreak publ...   \n",
       "2  population growth climate change impact food s...   \n",
       "\n",
       "                                                Body                    Doi  \\\n",
       "0  introduction covid19 pandemic represents water...  10.1093/jamia/ocab054   \n",
       "1  introduction late 2019 novel coronavirus desig...   10.3906/sag-2004-146   \n",
       "2  3 28 friesner broad impact current relevant fu...       10.1002/pld3.316   \n",
       "\n",
       "                                             Authors                Journal  \\\n",
       "0  Kim, Jihoon; Neumann, Larissa; Paul, Paulina; ...  J Am Med Inform Assoc   \n",
       "1    GÜNER, Rahmet; HASANOĞLU, İmran; AKTAŞ, Firdevs         Turk J Med Sci   \n",
       "2  Friesner, Joanna; Colón‐Carmona, Adán; Schnoes...           Plant Direct   \n",
       "\n",
       "  PublishTime                                        TitleVector  \\\n",
       "0  2021-05-29  (0.0, 0.0, 0.0, 0.9030793101704355, 0.0, 1.063...   \n",
       "1  2020-04-21  (0.0, 0.9705552758537662, 0.0, 0.0, 0.0, 0.0, ...   \n",
       "2  2021-04-14  (0.0, 0.0, 0.0, 1.806158620340871, 1.054127673...   \n",
       "\n",
       "                                      AbstractVector  \\\n",
       "0  (0.27550762596266126, 0.29601118385461833, 0.2...   \n",
       "1  (0.0, 0.08880335515638549, 0.14500552787751997...   \n",
       "2  (0.20663071947199596, 0.26641006546915647, 0.0...   \n",
       "\n",
       "                                          BodyVector  Day_PublishTime  \\\n",
       "0  (0.05396417596824679, 0.07332376190104435, 0.0...               29   \n",
       "1  (0.018139218812856062, 0.04233124398410808, 0....               21   \n",
       "2  (0.15735772320152636, 0.22148311584542263, 0.1...               14   \n",
       "\n",
       "   Month_PublishTime  Year_PublishTime  DoiIndex  AuthorsIndex  JournalIndex  \\\n",
       "0                  5              2021    3234.0        2849.0         768.0   \n",
       "1                  4              2020    6405.0        2095.0         517.0   \n",
       "2                  4              2021     155.0        1740.0        2282.0   \n",
       "\n",
       "                                            features  \n",
       "0  [0.0, 0.0, 0.0, 0.9030793101704355, 0.0, 1.063...  \n",
       "1  [0.0, 0.9705552758537662, 0.0, 0.0, 0.0, 0.0, ...  \n",
       "2  [0.0, 0.0, 0.0, 1.806158620340871, 1.054127673...  "
      ]
     },
     "execution_count": 37,
     "metadata": {},
     "output_type": "execute_result"
    }
   ],
   "source": [
    "transformed_data = assembler.transform(rescaledData)\n",
    "transformed_data.toPandas().head(3)"
   ]
  },
  {
   "cell_type": "markdown",
   "id": "b7f0e169",
   "metadata": {
    "papermill": {
     "duration": 0.36071,
     "end_time": "2022-01-05T20:58:28.702098",
     "exception": false,
     "start_time": "2022-01-05T20:58:28.341388",
     "status": "completed"
    },
    "tags": []
   },
   "source": [
    "# Clustering"
   ]
  },
  {
   "cell_type": "code",
   "execution_count": 38,
   "id": "c4b8183d",
   "metadata": {
    "_kg_hide-output": true,
    "execution": {
     "iopub.execute_input": "2022-01-05T20:58:29.433014Z",
     "iopub.status.busy": "2022-01-05T20:58:29.431170Z",
     "iopub.status.idle": "2022-01-05T20:59:00.216325Z",
     "shell.execute_reply": "2022-01-05T20:59:00.215784Z",
     "shell.execute_reply.started": "2022-01-05T11:54:55.772355Z"
    },
    "papermill": {
     "duration": 31.149052,
     "end_time": "2022-01-05T20:59:00.216460",
     "exception": false,
     "start_time": "2022-01-05T20:58:29.067408",
     "status": "completed"
    },
    "tags": []
   },
   "outputs": [
    {
     "name": "stderr",
     "output_type": "stream",
     "text": [
      "22/01/05 20:58:33 WARN DAGScheduler: Broadcasting large task binary with size 1609.1 KiB\n",
      "22/01/05 20:58:46 WARN DAGScheduler: Broadcasting large task binary with size 1609.8 KiB\n",
      "22/01/05 20:58:46 WARN DAGScheduler: Broadcasting large task binary with size 1610.4 KiB\n",
      "22/01/05 20:58:47 WARN DAGScheduler: Broadcasting large task binary with size 1610.8 KiB\n",
      "22/01/05 20:58:47 WARN DAGScheduler: Broadcasting large task binary with size 1610.8 KiB\n",
      "22/01/05 20:58:47 WARN DAGScheduler: Broadcasting large task binary with size 1611.2 KiB\n",
      "22/01/05 20:58:47 WARN DAGScheduler: Broadcasting large task binary with size 1611.0 KiB\n",
      "22/01/05 20:58:48 WARN DAGScheduler: Broadcasting large task binary with size 1610.3 KiB\n",
      "22/01/05 20:58:48 WARN DAGScheduler: Broadcasting large task binary with size 1610.3 KiB\n",
      "22/01/05 20:58:48 WARN DAGScheduler: Broadcasting large task binary with size 1610.3 KiB\n",
      "22/01/05 20:58:48 WARN DAGScheduler: Broadcasting large task binary with size 1610.3 KiB\n",
      "22/01/05 20:58:48 WARN DAGScheduler: Broadcasting large task binary with size 1610.3 KiB\n",
      "22/01/05 20:58:48 WARN DAGScheduler: Broadcasting large task binary with size 1610.3 KiB\n",
      "22/01/05 20:58:49 WARN DAGScheduler: Broadcasting large task binary with size 1610.3 KiB\n",
      "22/01/05 20:58:49 WARN DAGScheduler: Broadcasting large task binary with size 1610.3 KiB\n",
      "22/01/05 20:58:49 WARN DAGScheduler: Broadcasting large task binary with size 1610.3 KiB\n",
      "22/01/05 20:58:49 WARN DAGScheduler: Broadcasting large task binary with size 1610.3 KiB\n",
      "22/01/05 20:58:49 WARN DAGScheduler: Broadcasting large task binary with size 1610.3 KiB\n",
      "22/01/05 20:58:49 WARN DAGScheduler: Broadcasting large task binary with size 1610.3 KiB\n",
      "22/01/05 20:58:50 WARN DAGScheduler: Broadcasting large task binary with size 1610.3 KiB\n",
      "22/01/05 20:58:50 WARN DAGScheduler: Broadcasting large task binary with size 1610.3 KiB\n",
      "22/01/05 20:58:50 WARN DAGScheduler: Broadcasting large task binary with size 1610.3 KiB\n",
      "22/01/05 20:58:50 WARN DAGScheduler: Broadcasting large task binary with size 1610.3 KiB\n",
      "22/01/05 20:58:50 WARN DAGScheduler: Broadcasting large task binary with size 1610.3 KiB\n",
      "22/01/05 20:58:50 WARN DAGScheduler: Broadcasting large task binary with size 1610.3 KiB\n",
      "22/01/05 20:58:52 WARN DAGScheduler: Broadcasting large task binary with size 1622.8 KiB\n",
      "22/01/05 20:58:59 WARN DAGScheduler: Broadcasting large task binary with size 1548.9 KiB\n",
      "                                                                                \r"
     ]
    }
   ],
   "source": [
    "from pyspark.ml.clustering import KMeans\n",
    "\n",
    "kmeans = KMeans(k=4, seed=3)\n",
    "model = kmeans.fit(transformed_data)"
   ]
  },
  {
   "cell_type": "markdown",
   "id": "85536bd9",
   "metadata": {
    "papermill": {
     "duration": 0.367583,
     "end_time": "2022-01-05T20:59:00.950714",
     "exception": false,
     "start_time": "2022-01-05T20:59:00.583131",
     "status": "completed"
    },
    "tags": []
   },
   "source": [
    "#### Create the clusters using the model"
   ]
  },
  {
   "cell_type": "code",
   "execution_count": 39,
   "id": "f0ff9a00",
   "metadata": {
    "execution": {
     "iopub.execute_input": "2022-01-05T20:59:01.737870Z",
     "iopub.status.busy": "2022-01-05T20:59:01.736730Z",
     "iopub.status.idle": "2022-01-05T20:59:01.782024Z",
     "shell.execute_reply": "2022-01-05T20:59:01.781282Z",
     "shell.execute_reply.started": "2022-01-05T11:55:25.762278Z"
    },
    "papermill": {
     "duration": 0.460096,
     "end_time": "2022-01-05T20:59:01.782179",
     "exception": false,
     "start_time": "2022-01-05T20:59:01.322083",
     "status": "completed"
    },
    "tags": []
   },
   "outputs": [],
   "source": [
    "clusterdData = model.transform(transformed_data)"
   ]
  },
  {
   "cell_type": "markdown",
   "id": "32dd987e",
   "metadata": {
    "papermill": {
     "duration": 0.369023,
     "end_time": "2022-01-05T20:59:02.521821",
     "exception": false,
     "start_time": "2022-01-05T20:59:02.152798",
     "status": "completed"
    },
    "tags": []
   },
   "source": [
    "#### Use ClusteringEvaluator to evaluate the clusters"
   ]
  },
  {
   "cell_type": "code",
   "execution_count": 40,
   "id": "fbd19a03",
   "metadata": {
    "_kg_hide-output": true,
    "execution": {
     "iopub.execute_input": "2022-01-05T20:59:03.274857Z",
     "iopub.status.busy": "2022-01-05T20:59:03.273884Z",
     "iopub.status.idle": "2022-01-05T20:59:21.528192Z",
     "shell.execute_reply": "2022-01-05T20:59:21.527368Z",
     "shell.execute_reply.started": "2022-01-05T11:55:25.82505Z"
    },
    "papermill": {
     "duration": 18.639865,
     "end_time": "2022-01-05T20:59:21.528408",
     "exception": false,
     "start_time": "2022-01-05T20:59:02.888543",
     "status": "completed"
    },
    "tags": []
   },
   "outputs": [
    {
     "name": "stderr",
     "output_type": "stream",
     "text": [
      "22/01/05 20:59:05 WARN DAGScheduler: Broadcasting large task binary with size 1625.2 KiB\n",
      "22/01/05 20:59:14 WARN DAGScheduler: Broadcasting large task binary with size 1603.1 KiB\n",
      "                                                                                \r"
     ]
    }
   ],
   "source": [
    "from pyspark.ml.evaluation import ClusteringEvaluator\n",
    "import pylab as pl\n",
    "\n",
    "evaluator = ClusteringEvaluator()\n",
    "silhouette = evaluator.evaluate(clusterdData)\n"
   ]
  },
  {
   "cell_type": "code",
   "execution_count": 41,
   "id": "a210c27a",
   "metadata": {
    "execution": {
     "iopub.execute_input": "2022-01-05T20:59:22.370476Z",
     "iopub.status.busy": "2022-01-05T20:59:22.369822Z",
     "iopub.status.idle": "2022-01-05T20:59:22.372509Z",
     "shell.execute_reply": "2022-01-05T20:59:22.373022Z"
    },
    "papermill": {
     "duration": 0.379915,
     "end_time": "2022-01-05T20:59:22.373202",
     "exception": false,
     "start_time": "2022-01-05T20:59:21.993287",
     "status": "completed"
    },
    "tags": []
   },
   "outputs": [
    {
     "name": "stdout",
     "output_type": "stream",
     "text": [
      "Silhouette with squared euclidean distance =  0.5436651810372041\n"
     ]
    }
   ],
   "source": [
    "print('Silhouette with squared euclidean distance = ', silhouette)"
   ]
  },
  {
   "cell_type": "markdown",
   "id": "0e72c6c0",
   "metadata": {
    "papermill": {
     "duration": 0.371589,
     "end_time": "2022-01-05T20:59:23.116423",
     "exception": false,
     "start_time": "2022-01-05T20:59:22.744834",
     "status": "completed"
    },
    "tags": []
   },
   "source": [
    "#### Choose number of clusters k"
   ]
  },
  {
   "cell_type": "code",
   "execution_count": 42,
   "id": "d128d10e",
   "metadata": {
    "_kg_hide-input": false,
    "_kg_hide-output": true,
    "execution": {
     "iopub.execute_input": "2022-01-05T20:59:23.864868Z",
     "iopub.status.busy": "2022-01-05T20:59:23.863864Z",
     "iopub.status.idle": "2022-01-05T21:05:15.162065Z",
     "shell.execute_reply": "2022-01-05T21:05:15.161499Z",
     "shell.execute_reply.started": "2022-01-05T12:01:57.989999Z"
    },
    "papermill": {
     "duration": 351.676245,
     "end_time": "2022-01-05T21:05:15.162229",
     "exception": false,
     "start_time": "2022-01-05T20:59:23.485984",
     "status": "completed"
    },
    "tags": []
   },
   "outputs": [
    {
     "name": "stderr",
     "output_type": "stream",
     "text": [
      "22/01/05 20:59:25 WARN DAGScheduler: Broadcasting large task binary with size 1609.1 KiB\n",
      "22/01/05 20:59:39 WARN DAGScheduler: Broadcasting large task binary with size 1609.8 KiB\n",
      "22/01/05 20:59:39 WARN DAGScheduler: Broadcasting large task binary with size 1610.4 KiB\n",
      "22/01/05 20:59:39 WARN DAGScheduler: Broadcasting large task binary with size 1610.8 KiB\n",
      "22/01/05 20:59:39 WARN DAGScheduler: Broadcasting large task binary with size 1610.8 KiB\n",
      "22/01/05 20:59:39 WARN DAGScheduler: Broadcasting large task binary with size 1611.2 KiB\n",
      "22/01/05 20:59:40 WARN DAGScheduler: Broadcasting large task binary with size 1611.0 KiB\n",
      "22/01/05 20:59:40 WARN DAGScheduler: Broadcasting large task binary with size 1610.3 KiB\n",
      "22/01/05 20:59:40 WARN DAGScheduler: Broadcasting large task binary with size 1610.3 KiB\n",
      "22/01/05 20:59:40 WARN DAGScheduler: Broadcasting large task binary with size 1610.3 KiB\n",
      "22/01/05 20:59:40 WARN DAGScheduler: Broadcasting large task binary with size 1610.3 KiB\n",
      "22/01/05 20:59:40 WARN DAGScheduler: Broadcasting large task binary with size 1610.3 KiB\n",
      "22/01/05 20:59:40 WARN DAGScheduler: Broadcasting large task binary with size 1610.3 KiB\n",
      "22/01/05 20:59:41 WARN DAGScheduler: Broadcasting large task binary with size 1610.3 KiB\n",
      "22/01/05 20:59:41 WARN DAGScheduler: Broadcasting large task binary with size 1610.3 KiB\n",
      "22/01/05 20:59:41 WARN DAGScheduler: Broadcasting large task binary with size 1610.3 KiB\n",
      "22/01/05 20:59:41 WARN DAGScheduler: Broadcasting large task binary with size 1610.3 KiB\n",
      "22/01/05 20:59:41 WARN DAGScheduler: Broadcasting large task binary with size 1610.3 KiB\n",
      "22/01/05 20:59:41 WARN DAGScheduler: Broadcasting large task binary with size 1610.3 KiB\n",
      "22/01/05 20:59:41 WARN DAGScheduler: Broadcasting large task binary with size 1610.3 KiB\n",
      "22/01/05 20:59:43 WARN DAGScheduler: Broadcasting large task binary with size 1621.8 KiB\n",
      "22/01/05 20:59:50 WARN DAGScheduler: Broadcasting large task binary with size 1547.9 KiB\n",
      "22/01/05 20:59:52 WARN DAGScheduler: Broadcasting large task binary with size 1624.1 KiB\n",
      "22/01/05 21:00:02 WARN DAGScheduler: Broadcasting large task binary with size 1602.0 KiB\n",
      "22/01/05 21:00:10 WARN DAGScheduler: Broadcasting large task binary with size 1609.1 KiB\n",
      "22/01/05 21:00:23 WARN DAGScheduler: Broadcasting large task binary with size 1609.8 KiB\n",
      "22/01/05 21:00:23 WARN DAGScheduler: Broadcasting large task binary with size 1610.4 KiB\n",
      "22/01/05 21:00:23 WARN DAGScheduler: Broadcasting large task binary with size 1610.8 KiB\n",
      "22/01/05 21:00:23 WARN DAGScheduler: Broadcasting large task binary with size 1610.8 KiB\n",
      "22/01/05 21:00:24 WARN DAGScheduler: Broadcasting large task binary with size 1611.2 KiB\n",
      "22/01/05 21:00:24 WARN DAGScheduler: Broadcasting large task binary with size 1611.0 KiB\n",
      "22/01/05 21:00:24 WARN DAGScheduler: Broadcasting large task binary with size 1610.3 KiB\n",
      "22/01/05 21:00:24 WARN DAGScheduler: Broadcasting large task binary with size 1610.3 KiB\n",
      "22/01/05 21:00:24 WARN DAGScheduler: Broadcasting large task binary with size 1610.3 KiB\n",
      "22/01/05 21:00:24 WARN DAGScheduler: Broadcasting large task binary with size 1610.3 KiB\n",
      "22/01/05 21:00:24 WARN DAGScheduler: Broadcasting large task binary with size 1610.3 KiB\n",
      "22/01/05 21:00:24 WARN DAGScheduler: Broadcasting large task binary with size 1610.3 KiB\n",
      "22/01/05 21:00:24 WARN DAGScheduler: Broadcasting large task binary with size 1610.3 KiB\n",
      "22/01/05 21:00:25 WARN DAGScheduler: Broadcasting large task binary with size 1610.3 KiB\n",
      "22/01/05 21:00:25 WARN DAGScheduler: Broadcasting large task binary with size 1610.3 KiB\n",
      "22/01/05 21:00:25 WARN DAGScheduler: Broadcasting large task binary with size 1610.3 KiB\n",
      "22/01/05 21:00:25 WARN DAGScheduler: Broadcasting large task binary with size 1610.3 KiB\n",
      "22/01/05 21:00:25 WARN DAGScheduler: Broadcasting large task binary with size 1610.3 KiB\n",
      "22/01/05 21:00:25 WARN DAGScheduler: Broadcasting large task binary with size 1610.3 KiB\n",
      "22/01/05 21:00:25 WARN DAGScheduler: Broadcasting large task binary with size 1610.3 KiB\n",
      "22/01/05 21:00:25 WARN DAGScheduler: Broadcasting large task binary with size 1610.3 KiB\n",
      "22/01/05 21:00:25 WARN DAGScheduler: Broadcasting large task binary with size 1610.3 KiB\n",
      "22/01/05 21:00:26 WARN DAGScheduler: Broadcasting large task binary with size 1610.3 KiB\n",
      "22/01/05 21:00:26 WARN DAGScheduler: Broadcasting large task binary with size 1610.3 KiB\n",
      "22/01/05 21:00:26 WARN DAGScheduler: Broadcasting large task binary with size 1610.3 KiB\n",
      "22/01/05 21:00:26 WARN DAGScheduler: Broadcasting large task binary with size 1610.3 KiB\n",
      "22/01/05 21:00:28 WARN DAGScheduler: Broadcasting large task binary with size 1622.3 KiB\n",
      "22/01/05 21:00:35 WARN DAGScheduler: Broadcasting large task binary with size 1548.4 KiB\n",
      "22/01/05 21:00:37 WARN DAGScheduler: Broadcasting large task binary with size 1624.6 KiB\n",
      "22/01/05 21:00:46 WARN DAGScheduler: Broadcasting large task binary with size 1602.6 KiB\n",
      "22/01/05 21:00:55 WARN DAGScheduler: Broadcasting large task binary with size 1609.1 KiB\n",
      "22/01/05 21:01:08 WARN DAGScheduler: Broadcasting large task binary with size 1609.8 KiB\n",
      "22/01/05 21:01:08 WARN DAGScheduler: Broadcasting large task binary with size 1610.4 KiB\n",
      "22/01/05 21:01:09 WARN DAGScheduler: Broadcasting large task binary with size 1610.8 KiB\n",
      "22/01/05 21:01:09 WARN DAGScheduler: Broadcasting large task binary with size 1610.8 KiB\n",
      "22/01/05 21:01:09 WARN DAGScheduler: Broadcasting large task binary with size 1611.2 KiB\n",
      "22/01/05 21:01:09 WARN DAGScheduler: Broadcasting large task binary with size 1611.0 KiB\n",
      "22/01/05 21:01:09 WARN DAGScheduler: Broadcasting large task binary with size 1610.3 KiB\n",
      "22/01/05 21:01:09 WARN DAGScheduler: Broadcasting large task binary with size 1610.3 KiB\n",
      "22/01/05 21:01:09 WARN DAGScheduler: Broadcasting large task binary with size 1610.3 KiB\n",
      "22/01/05 21:01:09 WARN DAGScheduler: Broadcasting large task binary with size 1610.3 KiB\n",
      "22/01/05 21:01:10 WARN DAGScheduler: Broadcasting large task binary with size 1610.3 KiB\n",
      "22/01/05 21:01:10 WARN DAGScheduler: Broadcasting large task binary with size 1610.3 KiB\n",
      "22/01/05 21:01:10 WARN DAGScheduler: Broadcasting large task binary with size 1610.3 KiB\n",
      "22/01/05 21:01:10 WARN DAGScheduler: Broadcasting large task binary with size 1610.3 KiB\n",
      "22/01/05 21:01:10 WARN DAGScheduler: Broadcasting large task binary with size 1610.3 KiB\n",
      "22/01/05 21:01:10 WARN DAGScheduler: Broadcasting large task binary with size 1610.3 KiB\n",
      "22/01/05 21:01:10 WARN DAGScheduler: Broadcasting large task binary with size 1610.3 KiB\n",
      "22/01/05 21:01:10 WARN DAGScheduler: Broadcasting large task binary with size 1610.3 KiB\n",
      "22/01/05 21:01:10 WARN DAGScheduler: Broadcasting large task binary with size 1610.3 KiB\n",
      "22/01/05 21:01:10 WARN DAGScheduler: Broadcasting large task binary with size 1610.3 KiB\n",
      "22/01/05 21:01:11 WARN DAGScheduler: Broadcasting large task binary with size 1610.3 KiB\n",
      "22/01/05 21:01:11 WARN DAGScheduler: Broadcasting large task binary with size 1610.3 KiB\n",
      "22/01/05 21:01:11 WARN DAGScheduler: Broadcasting large task binary with size 1610.3 KiB\n",
      "22/01/05 21:01:11 WARN DAGScheduler: Broadcasting large task binary with size 1610.3 KiB\n",
      "22/01/05 21:01:13 WARN DAGScheduler: Broadcasting large task binary with size 1622.8 KiB\n",
      "22/01/05 21:01:20 WARN DAGScheduler: Broadcasting large task binary with size 1548.9 KiB\n",
      "22/01/05 21:01:22 WARN DAGScheduler: Broadcasting large task binary with size 1625.2 KiB\n",
      "22/01/05 21:01:30 WARN DAGScheduler: Broadcasting large task binary with size 1603.1 KiB\n",
      "22/01/05 21:01:38 WARN DAGScheduler: Broadcasting large task binary with size 1609.1 KiB\n",
      "22/01/05 21:01:51 WARN DAGScheduler: Broadcasting large task binary with size 1609.8 KiB\n",
      "22/01/05 21:01:51 WARN DAGScheduler: Broadcasting large task binary with size 1610.4 KiB\n",
      "22/01/05 21:01:51 WARN DAGScheduler: Broadcasting large task binary with size 1610.8 KiB\n",
      "22/01/05 21:01:51 WARN DAGScheduler: Broadcasting large task binary with size 1610.8 KiB\n",
      "22/01/05 21:01:51 WARN DAGScheduler: Broadcasting large task binary with size 1611.2 KiB\n",
      "22/01/05 21:01:51 WARN DAGScheduler: Broadcasting large task binary with size 1611.0 KiB\n",
      "22/01/05 21:01:51 WARN DAGScheduler: Broadcasting large task binary with size 1610.3 KiB\n",
      "22/01/05 21:01:52 WARN DAGScheduler: Broadcasting large task binary with size 1610.3 KiB\n",
      "22/01/05 21:01:52 WARN DAGScheduler: Broadcasting large task binary with size 1610.3 KiB\n",
      "22/01/05 21:01:52 WARN DAGScheduler: Broadcasting large task binary with size 1610.3 KiB\n",
      "22/01/05 21:01:52 WARN DAGScheduler: Broadcasting large task binary with size 1610.3 KiB\n",
      "22/01/05 21:01:52 WARN DAGScheduler: Broadcasting large task binary with size 1610.3 KiB\n",
      "22/01/05 21:01:52 WARN DAGScheduler: Broadcasting large task binary with size 1610.3 KiB\n",
      "22/01/05 21:01:52 WARN DAGScheduler: Broadcasting large task binary with size 1610.3 KiB\n",
      "22/01/05 21:01:52 WARN DAGScheduler: Broadcasting large task binary with size 1610.3 KiB\n",
      "22/01/05 21:01:52 WARN DAGScheduler: Broadcasting large task binary with size 1610.3 KiB\n",
      "22/01/05 21:01:52 WARN DAGScheduler: Broadcasting large task binary with size 1610.3 KiB\n",
      "22/01/05 21:01:53 WARN DAGScheduler: Broadcasting large task binary with size 1610.3 KiB\n",
      "22/01/05 21:01:53 WARN DAGScheduler: Broadcasting large task binary with size 1610.3 KiB\n",
      "22/01/05 21:01:53 WARN DAGScheduler: Broadcasting large task binary with size 1610.3 KiB\n",
      "22/01/05 21:01:53 WARN DAGScheduler: Broadcasting large task binary with size 1610.3 KiB\n",
      "22/01/05 21:01:53 WARN DAGScheduler: Broadcasting large task binary with size 1610.3 KiB\n",
      "22/01/05 21:01:53 WARN DAGScheduler: Broadcasting large task binary with size 1610.3 KiB\n",
      "22/01/05 21:01:53 WARN DAGScheduler: Broadcasting large task binary with size 1610.3 KiB\n",
      "22/01/05 21:01:53 WARN DAGScheduler: Broadcasting large task binary with size 1610.3 KiB\n",
      "22/01/05 21:01:53 WARN DAGScheduler: Broadcasting large task binary with size 1610.3 KiB\n",
      "22/01/05 21:01:55 WARN DAGScheduler: Broadcasting large task binary with size 1623.4 KiB\n",
      "22/01/05 21:02:02 WARN DAGScheduler: Broadcasting large task binary with size 1549.5 KiB\n",
      "22/01/05 21:02:04 WARN DAGScheduler: Broadcasting large task binary with size 1625.7 KiB\n",
      "22/01/05 21:02:13 WARN DAGScheduler: Broadcasting large task binary with size 1603.6 KiB\n",
      "22/01/05 21:02:22 WARN DAGScheduler: Broadcasting large task binary with size 1609.1 KiB\n",
      "22/01/05 21:02:35 WARN DAGScheduler: Broadcasting large task binary with size 1609.8 KiB\n",
      "22/01/05 21:02:35 WARN DAGScheduler: Broadcasting large task binary with size 1610.4 KiB\n",
      "22/01/05 21:02:35 WARN DAGScheduler: Broadcasting large task binary with size 1610.8 KiB\n",
      "22/01/05 21:02:35 WARN DAGScheduler: Broadcasting large task binary with size 1610.8 KiB\n",
      "22/01/05 21:02:35 WARN DAGScheduler: Broadcasting large task binary with size 1611.2 KiB\n",
      "22/01/05 21:02:35 WARN DAGScheduler: Broadcasting large task binary with size 1611.0 KiB\n",
      "22/01/05 21:02:36 WARN DAGScheduler: Broadcasting large task binary with size 1610.3 KiB\n",
      "22/01/05 21:02:36 WARN DAGScheduler: Broadcasting large task binary with size 1610.3 KiB\n",
      "22/01/05 21:02:36 WARN DAGScheduler: Broadcasting large task binary with size 1610.3 KiB\n",
      "22/01/05 21:02:36 WARN DAGScheduler: Broadcasting large task binary with size 1610.3 KiB\n",
      "22/01/05 21:02:36 WARN DAGScheduler: Broadcasting large task binary with size 1610.3 KiB\n",
      "22/01/05 21:02:36 WARN DAGScheduler: Broadcasting large task binary with size 1610.3 KiB\n",
      "22/01/05 21:02:36 WARN DAGScheduler: Broadcasting large task binary with size 1610.3 KiB\n",
      "22/01/05 21:02:37 WARN DAGScheduler: Broadcasting large task binary with size 1610.3 KiB\n",
      "22/01/05 21:02:37 WARN DAGScheduler: Broadcasting large task binary with size 1610.3 KiB\n",
      "22/01/05 21:02:37 WARN DAGScheduler: Broadcasting large task binary with size 1610.3 KiB\n",
      "22/01/05 21:02:37 WARN DAGScheduler: Broadcasting large task binary with size 1610.3 KiB\n",
      "22/01/05 21:02:37 WARN DAGScheduler: Broadcasting large task binary with size 1610.3 KiB\n",
      "22/01/05 21:02:37 WARN DAGScheduler: Broadcasting large task binary with size 1610.3 KiB\n",
      "22/01/05 21:02:37 WARN DAGScheduler: Broadcasting large task binary with size 1610.3 KiB\n",
      "22/01/05 21:02:37 WARN DAGScheduler: Broadcasting large task binary with size 1610.3 KiB\n",
      "22/01/05 21:02:38 WARN DAGScheduler: Broadcasting large task binary with size 1610.3 KiB\n",
      "22/01/05 21:02:38 WARN DAGScheduler: Broadcasting large task binary with size 1610.3 KiB\n",
      "22/01/05 21:02:38 WARN DAGScheduler: Broadcasting large task binary with size 1610.3 KiB\n",
      "22/01/05 21:02:38 WARN DAGScheduler: Broadcasting large task binary with size 1610.3 KiB\n",
      "22/01/05 21:02:38 WARN DAGScheduler: Broadcasting large task binary with size 1610.3 KiB\n",
      "22/01/05 21:02:40 WARN DAGScheduler: Broadcasting large task binary with size 1623.9 KiB\n",
      "22/01/05 21:02:47 WARN DAGScheduler: Broadcasting large task binary with size 1550.0 KiB\n",
      "22/01/05 21:02:49 WARN DAGScheduler: Broadcasting large task binary with size 1626.2 KiB\n",
      "22/01/05 21:02:57 WARN DAGScheduler: Broadcasting large task binary with size 1604.2 KiB\n",
      "22/01/05 21:03:05 WARN DAGScheduler: Broadcasting large task binary with size 1609.1 KiB\n",
      "22/01/05 21:03:18 WARN DAGScheduler: Broadcasting large task binary with size 1609.8 KiB\n",
      "22/01/05 21:03:18 WARN DAGScheduler: Broadcasting large task binary with size 1610.4 KiB\n",
      "22/01/05 21:03:18 WARN DAGScheduler: Broadcasting large task binary with size 1610.8 KiB\n",
      "22/01/05 21:03:18 WARN DAGScheduler: Broadcasting large task binary with size 1610.8 KiB\n",
      "22/01/05 21:03:18 WARN DAGScheduler: Broadcasting large task binary with size 1611.2 KiB\n",
      "22/01/05 21:03:18 WARN DAGScheduler: Broadcasting large task binary with size 1611.0 KiB\n",
      "22/01/05 21:03:19 WARN DAGScheduler: Broadcasting large task binary with size 1610.3 KiB\n",
      "22/01/05 21:03:19 WARN DAGScheduler: Broadcasting large task binary with size 1610.3 KiB\n",
      "22/01/05 21:03:19 WARN DAGScheduler: Broadcasting large task binary with size 1610.3 KiB\n",
      "22/01/05 21:03:19 WARN DAGScheduler: Broadcasting large task binary with size 1610.3 KiB\n",
      "22/01/05 21:03:19 WARN DAGScheduler: Broadcasting large task binary with size 1610.3 KiB\n",
      "22/01/05 21:03:19 WARN DAGScheduler: Broadcasting large task binary with size 1610.3 KiB\n",
      "22/01/05 21:03:19 WARN DAGScheduler: Broadcasting large task binary with size 1610.3 KiB\n",
      "22/01/05 21:03:19 WARN DAGScheduler: Broadcasting large task binary with size 1610.3 KiB\n",
      "22/01/05 21:03:19 WARN DAGScheduler: Broadcasting large task binary with size 1610.3 KiB\n",
      "22/01/05 21:03:19 WARN DAGScheduler: Broadcasting large task binary with size 1610.3 KiB\n",
      "22/01/05 21:03:20 WARN DAGScheduler: Broadcasting large task binary with size 1610.3 KiB\n",
      "22/01/05 21:03:20 WARN DAGScheduler: Broadcasting large task binary with size 1610.3 KiB\n",
      "22/01/05 21:03:20 WARN DAGScheduler: Broadcasting large task binary with size 1610.3 KiB\n",
      "22/01/05 21:03:20 WARN DAGScheduler: Broadcasting large task binary with size 1610.3 KiB\n",
      "22/01/05 21:03:20 WARN DAGScheduler: Broadcasting large task binary with size 1610.3 KiB\n",
      "22/01/05 21:03:20 WARN DAGScheduler: Broadcasting large task binary with size 1610.3 KiB\n",
      "22/01/05 21:03:20 WARN DAGScheduler: Broadcasting large task binary with size 1610.3 KiB\n",
      "22/01/05 21:03:20 WARN DAGScheduler: Broadcasting large task binary with size 1610.3 KiB\n",
      "22/01/05 21:03:20 WARN DAGScheduler: Broadcasting large task binary with size 1610.3 KiB\n",
      "22/01/05 21:03:20 WARN DAGScheduler: Broadcasting large task binary with size 1610.3 KiB\n",
      "22/01/05 21:03:22 WARN DAGScheduler: Broadcasting large task binary with size 1624.4 KiB\n",
      "22/01/05 21:03:30 WARN DAGScheduler: Broadcasting large task binary with size 1550.5 KiB\n",
      "22/01/05 21:03:32 WARN DAGScheduler: Broadcasting large task binary with size 1626.8 KiB\n",
      "22/01/05 21:03:40 WARN DAGScheduler: Broadcasting large task binary with size 1604.7 KiB\n",
      "22/01/05 21:03:49 WARN DAGScheduler: Broadcasting large task binary with size 1609.1 KiB\n",
      "22/01/05 21:04:02 WARN DAGScheduler: Broadcasting large task binary with size 1609.8 KiB\n",
      "22/01/05 21:04:02 WARN DAGScheduler: Broadcasting large task binary with size 1610.4 KiB\n",
      "22/01/05 21:04:03 WARN DAGScheduler: Broadcasting large task binary with size 1610.8 KiB\n",
      "22/01/05 21:04:03 WARN DAGScheduler: Broadcasting large task binary with size 1610.8 KiB\n",
      "22/01/05 21:04:03 WARN DAGScheduler: Broadcasting large task binary with size 1611.2 KiB\n",
      "22/01/05 21:04:03 WARN DAGScheduler: Broadcasting large task binary with size 1611.0 KiB\n",
      "22/01/05 21:04:03 WARN DAGScheduler: Broadcasting large task binary with size 1610.3 KiB\n",
      "22/01/05 21:04:03 WARN DAGScheduler: Broadcasting large task binary with size 1610.3 KiB\n",
      "22/01/05 21:04:04 WARN DAGScheduler: Broadcasting large task binary with size 1610.3 KiB\n",
      "22/01/05 21:04:04 WARN DAGScheduler: Broadcasting large task binary with size 1610.3 KiB\n",
      "22/01/05 21:04:04 WARN DAGScheduler: Broadcasting large task binary with size 1610.3 KiB\n",
      "22/01/05 21:04:04 WARN DAGScheduler: Broadcasting large task binary with size 1610.3 KiB\n",
      "22/01/05 21:04:04 WARN DAGScheduler: Broadcasting large task binary with size 1610.3 KiB\n",
      "22/01/05 21:04:04 WARN DAGScheduler: Broadcasting large task binary with size 1610.3 KiB\n",
      "22/01/05 21:04:04 WARN DAGScheduler: Broadcasting large task binary with size 1610.3 KiB\n",
      "22/01/05 21:04:04 WARN DAGScheduler: Broadcasting large task binary with size 1610.3 KiB\n",
      "22/01/05 21:04:05 WARN DAGScheduler: Broadcasting large task binary with size 1610.3 KiB\n",
      "22/01/05 21:04:05 WARN DAGScheduler: Broadcasting large task binary with size 1610.3 KiB\n",
      "22/01/05 21:04:05 WARN DAGScheduler: Broadcasting large task binary with size 1610.3 KiB\n",
      "22/01/05 21:04:05 WARN DAGScheduler: Broadcasting large task binary with size 1610.3 KiB\n",
      "22/01/05 21:04:05 WARN DAGScheduler: Broadcasting large task binary with size 1610.3 KiB\n",
      "22/01/05 21:04:05 WARN DAGScheduler: Broadcasting large task binary with size 1610.3 KiB\n",
      "22/01/05 21:04:05 WARN DAGScheduler: Broadcasting large task binary with size 1610.3 KiB\n",
      "22/01/05 21:04:05 WARN DAGScheduler: Broadcasting large task binary with size 1610.3 KiB\n",
      "22/01/05 21:04:06 WARN DAGScheduler: Broadcasting large task binary with size 1610.3 KiB\n",
      "22/01/05 21:04:06 WARN DAGScheduler: Broadcasting large task binary with size 1610.3 KiB\n",
      "22/01/05 21:04:08 WARN DAGScheduler: Broadcasting large task binary with size 1625.0 KiB\n",
      "22/01/05 21:04:14 WARN DAGScheduler: Broadcasting large task binary with size 1551.1 KiB\n",
      "22/01/05 21:04:16 WARN DAGScheduler: Broadcasting large task binary with size 1627.3 KiB\n",
      "22/01/05 21:04:25 WARN DAGScheduler: Broadcasting large task binary with size 1605.2 KiB\n",
      "22/01/05 21:04:33 WARN DAGScheduler: Broadcasting large task binary with size 1609.1 KiB\n",
      "22/01/05 21:04:46 WARN DAGScheduler: Broadcasting large task binary with size 1609.8 KiB\n",
      "22/01/05 21:04:46 WARN DAGScheduler: Broadcasting large task binary with size 1610.4 KiB\n",
      "22/01/05 21:04:46 WARN DAGScheduler: Broadcasting large task binary with size 1610.8 KiB\n",
      "22/01/05 21:04:46 WARN DAGScheduler: Broadcasting large task binary with size 1610.8 KiB\n",
      "22/01/05 21:04:47 WARN DAGScheduler: Broadcasting large task binary with size 1611.2 KiB\n",
      "22/01/05 21:04:47 WARN DAGScheduler: Broadcasting large task binary with size 1611.0 KiB\n",
      "22/01/05 21:04:47 WARN DAGScheduler: Broadcasting large task binary with size 1610.3 KiB\n",
      "22/01/05 21:04:47 WARN DAGScheduler: Broadcasting large task binary with size 1610.3 KiB\n",
      "22/01/05 21:04:47 WARN DAGScheduler: Broadcasting large task binary with size 1610.3 KiB\n",
      "22/01/05 21:04:47 WARN DAGScheduler: Broadcasting large task binary with size 1610.3 KiB\n",
      "22/01/05 21:04:47 WARN DAGScheduler: Broadcasting large task binary with size 1610.3 KiB\n",
      "22/01/05 21:04:47 WARN DAGScheduler: Broadcasting large task binary with size 1610.3 KiB\n",
      "22/01/05 21:04:47 WARN DAGScheduler: Broadcasting large task binary with size 1610.3 KiB\n",
      "22/01/05 21:04:47 WARN DAGScheduler: Broadcasting large task binary with size 1610.3 KiB\n",
      "22/01/05 21:04:48 WARN DAGScheduler: Broadcasting large task binary with size 1610.3 KiB\n",
      "22/01/05 21:04:48 WARN DAGScheduler: Broadcasting large task binary with size 1610.3 KiB\n",
      "22/01/05 21:04:48 WARN DAGScheduler: Broadcasting large task binary with size 1610.3 KiB\n",
      "22/01/05 21:04:48 WARN DAGScheduler: Broadcasting large task binary with size 1610.3 KiB\n",
      "22/01/05 21:04:48 WARN DAGScheduler: Broadcasting large task binary with size 1610.3 KiB\n",
      "22/01/05 21:04:48 WARN DAGScheduler: Broadcasting large task binary with size 1610.3 KiB\n",
      "22/01/05 21:04:48 WARN DAGScheduler: Broadcasting large task binary with size 1610.3 KiB\n",
      "22/01/05 21:04:48 WARN DAGScheduler: Broadcasting large task binary with size 1610.3 KiB\n",
      "22/01/05 21:04:48 WARN DAGScheduler: Broadcasting large task binary with size 1610.3 KiB\n",
      "22/01/05 21:04:48 WARN DAGScheduler: Broadcasting large task binary with size 1610.3 KiB\n",
      "22/01/05 21:04:49 WARN DAGScheduler: Broadcasting large task binary with size 1610.3 KiB\n",
      "22/01/05 21:04:49 WARN DAGScheduler: Broadcasting large task binary with size 1610.3 KiB\n",
      "22/01/05 21:04:51 WARN DAGScheduler: Broadcasting large task binary with size 1625.5 KiB\n",
      "22/01/05 21:04:57 WARN DAGScheduler: Broadcasting large task binary with size 1551.6 KiB\n",
      "22/01/05 21:04:59 WARN DAGScheduler: Broadcasting large task binary with size 1627.9 KiB\n",
      "22/01/05 21:05:08 WARN DAGScheduler: Broadcasting large task binary with size 1605.8 KiB\n",
      "                                                                                \r"
     ]
    }
   ],
   "source": [
    "cost = np.zeros(10)\n",
    "\n",
    "for k in range(2,10):\n",
    "    kmeans = KMeans(k=k, seed=3)\n",
    "    model = kmeans.fit(transformed_data)\n",
    "    clusterdData = model.transform(transformed_data)\n",
    "    evaluator = ClusteringEvaluator()\n",
    "    cost[k] = evaluator.evaluate(clusterdData)\n",
    "\n",
    "# Plot the cost\n",
    "df_cost = pd.DataFrame(cost[2:])\n",
    "df_cost.columns = [\"cost\"]\n",
    "new_col = [2,3,4,5,6,7,8,9]\n",
    "df_cost.insert(0, 'cluster', new_col)"
   ]
  },
  {
   "cell_type": "code",
   "execution_count": 43,
   "id": "7204796b",
   "metadata": {
    "execution": {
     "iopub.execute_input": "2022-01-05T21:05:16.081171Z",
     "iopub.status.busy": "2022-01-05T21:05:16.077439Z",
     "iopub.status.idle": "2022-01-05T21:05:16.329389Z",
     "shell.execute_reply": "2022-01-05T21:05:16.328888Z",
     "shell.execute_reply.started": "2022-01-05T12:07:52.769566Z"
    },
    "papermill": {
     "duration": 0.699927,
     "end_time": "2022-01-05T21:05:16.329544",
     "exception": false,
     "start_time": "2022-01-05T21:05:15.629617",
     "status": "completed"
    },
    "tags": []
   },
   "outputs": [
    {
     "data": {
      "image/png": "[encoded data removed]",
      "text/plain": [
       "<Figure size 432x288 with 1 Axes>"
      ]
     },
     "metadata": {
      "needs_background": "light"
     },
     "output_type": "display_data"
    }
   ],
   "source": [
    "pl.plot(df_cost.cluster, df_cost.cost)\n",
    "pl.xlabel('Number of Clusters')\n",
    "pl.ylabel('Score')\n",
    "pl.title('Silhoutee curve')\n",
    "pl.show()"
   ]
  },
  {
   "cell_type": "code",
   "execution_count": null,
   "id": "b573488e",
   "metadata": {
    "papermill": {
     "duration": 0.447238,
     "end_time": "2022-01-05T21:05:17.223537",
     "exception": false,
     "start_time": "2022-01-05T21:05:16.776299",
     "status": "completed"
    },
    "tags": []
   },
   "outputs": [],
   "source": []
  },
  {
   "cell_type": "code",
   "execution_count": null,
   "id": "22fa6334",
   "metadata": {
    "papermill": {
     "duration": 0.474149,
     "end_time": "2022-01-05T21:05:18.141943",
     "exception": false,
     "start_time": "2022-01-05T21:05:17.667794",
     "status": "completed"
    },
    "tags": []
   },
   "outputs": [],
   "source": []
  },
  {
   "cell_type": "code",
   "execution_count": null,
   "id": "5c2d4e8c",
   "metadata": {
    "papermill": {
     "duration": 0.444288,
     "end_time": "2022-01-05T21:05:19.028438",
     "exception": false,
     "start_time": "2022-01-05T21:05:18.584150",
     "status": "completed"
    },
    "tags": []
   },
   "outputs": [],
   "source": []
  },
  {
   "cell_type": "code",
   "execution_count": null,
   "id": "458aba0f",
   "metadata": {
    "papermill": {
     "duration": 0.440615,
     "end_time": "2022-01-05T21:05:19.909431",
     "exception": false,
     "start_time": "2022-01-05T21:05:19.468816",
     "status": "completed"
    },
    "tags": []
   },
   "outputs": [],
   "source": []
  },
  {
   "cell_type": "code",
   "execution_count": null,
   "id": "17745125",
   "metadata": {
    "papermill": {
     "duration": 0.442227,
     "end_time": "2022-01-05T21:05:20.793829",
     "exception": false,
     "start_time": "2022-01-05T21:05:20.351602",
     "status": "completed"
    },
    "tags": []
   },
   "outputs": [],
   "source": []
  },
  {
   "cell_type": "code",
   "execution_count": null,
   "id": "921b4b61",
   "metadata": {
    "papermill": {
     "duration": 0.448871,
     "end_time": "2022-01-05T21:05:21.685049",
     "exception": false,
     "start_time": "2022-01-05T21:05:21.236178",
     "status": "completed"
    },
    "tags": []
   },
   "outputs": [],
   "source": []
  },
  {
   "cell_type": "code",
   "execution_count": null,
   "id": "5d3ebe75",
   "metadata": {
    "papermill": {
     "duration": 0.444418,
     "end_time": "2022-01-05T21:05:22.573987",
     "exception": false,
     "start_time": "2022-01-05T21:05:22.129569",
     "status": "completed"
    },
    "tags": []
   },
   "outputs": [],
   "source": []
  },
  {
   "cell_type": "code",
   "execution_count": null,
   "id": "de382a2b",
   "metadata": {
    "papermill": {
     "duration": 0.441603,
     "end_time": "2022-01-05T21:05:23.460562",
     "exception": false,
     "start_time": "2022-01-05T21:05:23.018959",
     "status": "completed"
    },
    "tags": []
   },
   "outputs": [],
   "source": []
  },
  {
   "cell_type": "code",
   "execution_count": null,
   "id": "48e42f3d",
   "metadata": {
    "papermill": {
     "duration": 0.44188,
     "end_time": "2022-01-05T21:05:24.346776",
     "exception": false,
     "start_time": "2022-01-05T21:05:23.904896",
     "status": "completed"
    },
    "tags": []
   },
   "outputs": [],
   "source": []
  }
 ],
 "metadata": {
  "kernelspec": {
   "display_name": "Python 3",
   "language": "python",
   "name": "python3"
  },
  "language_info": {
   "codemirror_mode": {
    "name": "ipython",
    "version": 3
   },
   "file_extension": ".py",
   "mimetype": "text/x-python",
   "name": "python",
   "nbconvert_exporter": "python",
   "pygments_lexer": "ipython3",
   "version": "3.7.12"
  },
  "papermill": {
   "default_parameters": {},
   "duration": 1096.77853,
   "end_time": "2022-01-05T21:05:27.403266",
   "environment_variables": {},
   "exception": null,
   "input_path": "__notebook__.ipynb",
   "output_path": "__notebook__.ipynb",
   "parameters": {},
   "start_time": "2022-01-05T20:47:10.624736",
   "version": "2.3.3"
  }
 },
 "nbformat": 4,
 "nbformat_minor": 5
}
